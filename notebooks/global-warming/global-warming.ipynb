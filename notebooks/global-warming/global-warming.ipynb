{
 "cells": [
  {
   "cell_type": "markdown",
   "metadata": {},
   "source": [
    "# AI Applications in Global Warming\n",
    "\n",
    "Compiled by Seyed Parsa Neshaei"
   ]
  },
  {
   "cell_type": "markdown",
   "metadata": {},
   "source": [
    "## Table of Contents\n",
    "\n",
    "- Foreword\n",
    "\n",
    "- Introduction: What is global warming?\n",
    "\n",
    "- How can AI be used regarding global warming?\n",
    "\n",
    "- AI Application in-depth: Predicting CO2 Emission\n",
    "\n",
    "- Conclusion\n",
    "\n",
    "- Further reading and references"
   ]
  },
  {
   "cell_type": "markdown",
   "metadata": {},
   "source": [
    "## Foreword\n",
    "\n",
    "Global warming is a serious issue in the world, leading to noticable climate change. Many ice caps are being melted, sea levels are being risen and rainfalls are happening less, due to the rise of the temperature.\n",
    "\n",
    "We, as a member of the society we're living in, have the responsibility to do whatever we can to reduce the risks by greenhouse gas emissions. In this notebook, we will get familiar with the problem of global warming, find out how can AI be used to tackle this issue and then we will see two applications of implementing AI on real-world datasets regarding global warming.\n",
    "\n",
    "So, let's dive in!"
   ]
  },
  {
   "cell_type": "markdown",
   "metadata": {},
   "source": [
    "## Introduction: What is global warming?\n",
    "\n",
    "Global warming is an effect of the so-called greenhouse gases on the earth. These gases capture the sunlight, and as a result, an increase to the amount of these gases (including carbon dioxide and metane) in the atmosphere leads to a rise in the temperature of the surface of the earth.\n",
    "\n",
    "Consequently, water level with rise due to ice being caps melted and also rainfalls happen less. This climate change can have devastating effects on the natural environment, because many species are sensitive to even small changes in the normal temperature of the atmosphere.\n",
    "\n",
    "The increase in temperature also has several other consequences. For example, wildfires become more common, there would be more intense storms, droughts and acidic oceans, and all of this may cause human migration as a result. WHO has called this the greatest threat to global health in the 21st century."
   ]
  },
  {
   "cell_type": "markdown",
   "metadata": {},
   "source": [
    "## How can AI be used regarding global warming?\n",
    "\n",
    "AI assists researchers in various fields, including the climate change and global warming. AI, data science, machine learning and deep learning are all useful in many fields, including the field of climate change, although the effect they have on climate change has not been explored as much as other fields were explored.\n",
    "\n",
    "Some key places an ML model can assist researchers in this regard are:\n",
    "\n",
    "- Modeling carbon sequestration\n",
    "    - This is a method to predict how much C (carbon) will be removed from the air and stored. The climate models can’t exacyly predict the climate in a thousand years, due to it being very sensitive to small changes in the average temperature. ML algorithms are being used to model the impact of carbon sequestration on climate change.\n",
    "\n",
    "\n",
    "- Predict carbon dioxide emissions\n",
    "    - Here, ML algorithms are used to estimate how much CO2 can be emitted while still the climate remains within a given goal (i.e., staying under two degrees Celsius)\n",
    "    \n",
    "    \n",
    "- Predicting greenhouse gas concentrations\n",
    "    - Predict future concentrations of greenhouse gases\n",
    "\n"
   ]
  },
  {
   "cell_type": "markdown",
   "metadata": {},
   "source": [
    "## AI Application in-depth 1: Predicting CO2 Emission\n",
    "\n",
    "As an example, we want to predict CO2 emissions based on the previous data using an ML model. We will use a simple regression model to find trends in the data and predict CO2 emissions.\n",
    "\n",
    "First, let's load the data (co2.csv) which was obtained and changed a bit to be clarified from [here](https://datahub.io/core/co2-ppm#readme):"
   ]
  },
  {
   "cell_type": "code",
   "execution_count": 16,
   "metadata": {},
   "outputs": [],
   "source": [
    "# import necessary libraries\n",
    "import pandas as pd\n",
    "import numpy as np\n",
    "import matplotlib.pyplot as plt\n",
    "\n",
    "# load the data in co2.csv using pandas\n",
    "df = pd.read_csv('co2.csv')"
   ]
  },
  {
   "cell_type": "markdown",
   "metadata": {},
   "source": [
    "Then we can inspect the data:"
   ]
  },
  {
   "cell_type": "code",
   "execution_count": 17,
   "metadata": {},
   "outputs": [
    {
     "data": {
      "text/html": [
       "<div>\n",
       "<style scoped>\n",
       "    .dataframe tbody tr th:only-of-type {\n",
       "        vertical-align: middle;\n",
       "    }\n",
       "\n",
       "    .dataframe tbody tr th {\n",
       "        vertical-align: top;\n",
       "    }\n",
       "\n",
       "    .dataframe thead th {\n",
       "        text-align: right;\n",
       "    }\n",
       "</style>\n",
       "<table border=\"1\" class=\"dataframe\">\n",
       "  <thead>\n",
       "    <tr style=\"text-align: right;\">\n",
       "      <th></th>\n",
       "      <th>Date</th>\n",
       "      <th>Decimal Date</th>\n",
       "      <th>Average</th>\n",
       "    </tr>\n",
       "  </thead>\n",
       "  <tbody>\n",
       "    <tr>\n",
       "      <th>0</th>\n",
       "      <td>1958-03-01</td>\n",
       "      <td>1958.208</td>\n",
       "      <td>315.71</td>\n",
       "    </tr>\n",
       "    <tr>\n",
       "      <th>1</th>\n",
       "      <td>1958-04-01</td>\n",
       "      <td>1958.292</td>\n",
       "      <td>317.45</td>\n",
       "    </tr>\n",
       "    <tr>\n",
       "      <th>2</th>\n",
       "      <td>1958-05-01</td>\n",
       "      <td>1958.375</td>\n",
       "      <td>317.50</td>\n",
       "    </tr>\n",
       "    <tr>\n",
       "      <th>3</th>\n",
       "      <td>1958-06-01</td>\n",
       "      <td>1958.458</td>\n",
       "      <td>-99.99</td>\n",
       "    </tr>\n",
       "    <tr>\n",
       "      <th>4</th>\n",
       "      <td>1958-07-01</td>\n",
       "      <td>1958.542</td>\n",
       "      <td>315.86</td>\n",
       "    </tr>\n",
       "  </tbody>\n",
       "</table>\n",
       "</div>"
      ],
      "text/plain": [
       "         Date  Decimal Date  Average\n",
       "0  1958-03-01      1958.208   315.71\n",
       "1  1958-04-01      1958.292   317.45\n",
       "2  1958-05-01      1958.375   317.50\n",
       "3  1958-06-01      1958.458   -99.99\n",
       "4  1958-07-01      1958.542   315.86"
      ]
     },
     "execution_count": 17,
     "metadata": {},
     "output_type": "execute_result"
    }
   ],
   "source": [
    "df.head()"
   ]
  },
  {
   "cell_type": "markdown",
   "metadata": {},
   "source": [
    "This data shows the average CO2 emission in each date. Decimal Date is a column the creators of the dataset have added in order to make it easier for us to train a model.\n",
    "\n",
    "Let's drop the Date column since we don't need it anymore:"
   ]
  },
  {
   "cell_type": "code",
   "execution_count": 18,
   "metadata": {},
   "outputs": [
    {
     "data": {
      "text/html": [
       "<div>\n",
       "<style scoped>\n",
       "    .dataframe tbody tr th:only-of-type {\n",
       "        vertical-align: middle;\n",
       "    }\n",
       "\n",
       "    .dataframe tbody tr th {\n",
       "        vertical-align: top;\n",
       "    }\n",
       "\n",
       "    .dataframe thead th {\n",
       "        text-align: right;\n",
       "    }\n",
       "</style>\n",
       "<table border=\"1\" class=\"dataframe\">\n",
       "  <thead>\n",
       "    <tr style=\"text-align: right;\">\n",
       "      <th></th>\n",
       "      <th>Decimal Date</th>\n",
       "      <th>Average</th>\n",
       "    </tr>\n",
       "  </thead>\n",
       "  <tbody>\n",
       "    <tr>\n",
       "      <th>0</th>\n",
       "      <td>1958.208</td>\n",
       "      <td>315.71</td>\n",
       "    </tr>\n",
       "    <tr>\n",
       "      <th>1</th>\n",
       "      <td>1958.292</td>\n",
       "      <td>317.45</td>\n",
       "    </tr>\n",
       "    <tr>\n",
       "      <th>2</th>\n",
       "      <td>1958.375</td>\n",
       "      <td>317.50</td>\n",
       "    </tr>\n",
       "    <tr>\n",
       "      <th>3</th>\n",
       "      <td>1958.458</td>\n",
       "      <td>-99.99</td>\n",
       "    </tr>\n",
       "    <tr>\n",
       "      <th>4</th>\n",
       "      <td>1958.542</td>\n",
       "      <td>315.86</td>\n",
       "    </tr>\n",
       "  </tbody>\n",
       "</table>\n",
       "</div>"
      ],
      "text/plain": [
       "   Decimal Date  Average\n",
       "0      1958.208   315.71\n",
       "1      1958.292   317.45\n",
       "2      1958.375   317.50\n",
       "3      1958.458   -99.99\n",
       "4      1958.542   315.86"
      ]
     },
     "execution_count": 18,
     "metadata": {},
     "output_type": "execute_result"
    }
   ],
   "source": [
    "# drop the Date column from df\n",
    "df.drop(\"Date\", axis=1, inplace=True)\n",
    "df.head()"
   ]
  },
  {
   "cell_type": "markdown",
   "metadata": {},
   "source": [
    "We can see the shape of the data:"
   ]
  },
  {
   "cell_type": "code",
   "execution_count": 19,
   "metadata": {},
   "outputs": [
    {
     "data": {
      "text/plain": [
       "(727, 2)"
      ]
     },
     "execution_count": 19,
     "metadata": {},
     "output_type": "execute_result"
    }
   ],
   "source": [
    "df.shape"
   ]
  },
  {
   "cell_type": "markdown",
   "metadata": {},
   "source": [
    "And we can plot the data:"
   ]
  },
  {
   "cell_type": "code",
   "execution_count": 20,
   "metadata": {},
   "outputs": [
    {
     "data": {
      "text/plain": [
       "<AxesSubplot:title={'center':'CO2 Emissions'}, xlabel='Decimal Date', ylabel='Average'>"
      ]
     },
     "execution_count": 20,
     "metadata": {},
     "output_type": "execute_result"
    },
    {
     "data": {
      "image/png": "[encoded data removed]",
      "text/plain": [
       "<Figure size 432x288 with 1 Axes>"
      ]
     },
     "metadata": {
      "needs_background": "light"
     },
     "output_type": "display_data"
    }
   ],
   "source": [
    "df.plot.scatter(x='Decimal Date', y='Average', title='CO2 Emissions')"
   ]
  },
  {
   "cell_type": "markdown",
   "metadata": {},
   "source": [
    "We can see there are some negative numbers in the dataset. They seem to be errors, so we remove them:"
   ]
  },
  {
   "cell_type": "code",
   "execution_count": 21,
   "metadata": {},
   "outputs": [
    {
     "data": {
      "text/plain": [
       "<AxesSubplot:title={'center':'CO2 Emissions'}, xlabel='Decimal Date', ylabel='Average'>"
      ]
     },
     "execution_count": 21,
     "metadata": {},
     "output_type": "execute_result"
    },
    {
     "data": {
      "image/png": "[encoded data removed]",
      "text/plain": [
       "<Figure size 432x288 with 1 Axes>"
      ]
     },
     "metadata": {
      "needs_background": "light"
     },
     "output_type": "display_data"
    }
   ],
   "source": [
    "# remove any value less than 0 in the Average column of df\n",
    "df = df[df['Average'] >= 0]\n",
    "df.plot.scatter(x='Decimal Date', y='Average', title='CO2 Emissions')"
   ]
  },
  {
   "cell_type": "markdown",
   "metadata": {},
   "source": [
    "Then, as you've previously seen while implementing scikit models, we start to prepare the data and make the model: (we do the reshape because LinearRegression expects a 2D input)"
   ]
  },
  {
   "cell_type": "code",
   "execution_count": 22,
   "metadata": {},
   "outputs": [],
   "source": [
    "x = df['Decimal Date'].values.reshape(-1, 1)\n",
    "y = df['Average'].values.reshape(-1, 1)"
   ]
  },
  {
   "cell_type": "markdown",
   "metadata": {},
   "source": [
    "We choose 20 percent for testing:"
   ]
  },
  {
   "cell_type": "code",
   "execution_count": 23,
   "metadata": {},
   "outputs": [],
   "source": [
    "from sklearn.model_selection import train_test_split\n",
    "Xtrain, Xtest, ytrain, ytest = train_test_split(x, y, test_size = 0.2)"
   ]
  },
  {
   "cell_type": "markdown",
   "metadata": {},
   "source": [
    "And we finally fit the model:"
   ]
  },
  {
   "cell_type": "code",
   "execution_count": 24,
   "metadata": {},
   "outputs": [
    {
     "data": {
      "text/plain": [
       "LinearRegression()"
      ]
     },
     "execution_count": 24,
     "metadata": {},
     "output_type": "execute_result"
    }
   ],
   "source": [
    "from sklearn.linear_model import LinearRegression\n",
    "model = LinearRegression()\n",
    "model.fit(Xtrain, ytrain)"
   ]
  },
  {
   "cell_type": "markdown",
   "metadata": {},
   "source": [
    "And we evaluate the model on the test set:"
   ]
  },
  {
   "cell_type": "code",
   "execution_count": 26,
   "metadata": {},
   "outputs": [
    {
     "name": "stdout",
     "output_type": "stream",
     "text": [
      "      Predicted    Read\n",
      "0    400.230985  410.24\n",
      "1    390.480879  393.12\n",
      "2    383.590285  381.99\n",
      "3    323.529636  324.42\n",
      "4    399.319935  403.37\n",
      "..          ...     ...\n",
      "139  314.430057  321.39\n",
      "140  345.889357  345.63\n",
      "141  345.759876  346.03\n",
      "142  367.729594  365.59\n",
      "143  376.309686  373.79\n",
      "\n",
      "[144 rows x 2 columns]\n"
     ]
    }
   ],
   "source": [
    "preds = model.predict(Xtest)\n",
    "preds_df = pd.DataFrame({'Predicted': preds.squeeze(), 'Read': ytest.squeeze()})\n",
    "print(preds_df)"
   ]
  },
  {
   "cell_type": "markdown",
   "metadata": {},
   "source": [
    "The result are similar to the real values, which means our model has been mostly successful.\n",
    "\n",
    "The model can certainly be improved by using more advanced methods such as ANNs, but the goal here basically was to see how much a simple linear regression model may be useful in such a task."
   ]
  },
  {
   "cell_type": "markdown",
   "metadata": {},
   "source": [
    "## Conclusion\n",
    "\n",
    "In this notebook, we learned about the problems regarding the climate change and how it can affect our lives, then studied some AI applications related to the global warming. We implemented a simple piece of code to show how simply we can perform an analysis of the available data on the internet to get insight about the environmental problems and predict metrics for the future, assuming the trends don't change in a noticable, significant manner."
   ]
  },
  {
   "cell_type": "markdown",
   "metadata": {},
   "source": [
    "## Further reading and references\n",
    "\n",
    "- https://datahub.io/awesome/climate-change\n",
    "\n",
    "- https://en.wikipedia.org/wiki/Climate_change\n",
    "\n",
    "- https://vitalflux.com/machine-learning-use-cases-climate-change/\n",
    "\n",
    "- https://data.world/datasets/global-warming\n",
    "\n",
    "- https://www.analyticssteps.com/blogs/8-ways-which-ai-tackles-climate-change\n"
   ]
  }
 ],
 "metadata": {
  "kernelspec": {
   "display_name": "Python 3.9.12 ('env_tf')",
   "language": "python",
   "name": "python3"
  },
  "language_info": {
   "codemirror_mode": {
    "name": "ipython",
    "version": 3
   },
   "file_extension": ".py",
   "mimetype": "text/x-python",
   "name": "python",
   "nbconvert_exporter": "python",
   "pygments_lexer": "ipython3",
   "version": "3.9.12"
  },
  "orig_nbformat": 4,
  "vscode": {
   "interpreter": {
    "hash": "8e74460d205db1d36a715e76f12628a0e4a7d4b0adb185ac4570d73967b15f9b"
   }
  }
 },
 "nbformat": 4,
 "nbformat_minor": 2
}
