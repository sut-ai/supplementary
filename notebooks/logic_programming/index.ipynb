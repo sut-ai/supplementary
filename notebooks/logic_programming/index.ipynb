{
 "cells": [
  {
   "cell_type": "markdown",
   "id": "b530eaa2",
   "metadata": {},
   "source": [
    "#### Table of Contents:\n",
    "* [Introduction](#intro)\n",
    "* [What is Prolog](#what-is-prolog)\n",
    "* [Why Learn Prolog?](#why-learn-prolog)\n",
    "* [Installing Prolog](#installing-prolog)\n",
    "* [Prolog 101](#prolog-101)\n",
    "  - [Terminologies](#terminologies)\n",
    "  - [Simple example](#simple-example)\n",
    "* [Instersting Prolog examples](#examples)\n",
    "  - [Tower of Hanoi](#hanoi)\n",
    "  - [Coins Problem](#coins-problem)\n",
    "  - [N-Queens](#n-queens)\n",
    "* [References](#ref)"
   ]
  },
  {
   "cell_type": "markdown",
   "id": "43a97f16",
   "metadata": {},
   "source": [
    "<div><a class=\"anchor\" id=\"what-is-prolog\"></a></div>\n",
    "\n",
    "## Introduction\n",
    "because logic was removed from the course’s syllabus and students might be unfamiliar with this topic it’s good to have a prerequisites subsection listing links to required skills and mathematical background such as logic itself, this notebook is trying to fulfill the lack of logic topics in the course. "
   ]
  },
  {
   "cell_type": "markdown",
   "id": "c3cf50b9",
   "metadata": {},
   "source": [
    "<div><a class=\"anchor\" id=\"what-is-prolog\"></a></div>\n",
    "\n",
    "## What is Prolog?"
   ]
  },
  {
   "cell_type": "markdown",
   "id": "68874692",
   "metadata": {},
   "source": [
    "Prolog is a **logic programming** language. It means that it is different in nature from the general-purpose form of languages like C++, Java, Python, Javascript, etc.\n",
    "\n",
    "Prolog is based on [First-Order Logic](https://en.wikipedia.org/wiki/First-order_logic) and is purely designed as a [declarative programming language](https://en.wikipedia.org/wiki/Declarative_programming). The logic is expressed in terms of relations, and all the computation is initiated by queries.\n",
    "\n",
    "The language is used for theorem proving, designing expert systems, term rewriting, automated planning, [NLP](https://en.wikipedia.org/wiki/Natural_language_processing), and many more interesting fields."
   ]
  },
  {
   "cell_type": "markdown",
   "id": "63f49b30",
   "metadata": {},
   "source": [
    "<div><a class=\"anchor\" id=\"why-learn-prolog\"></a></div>\n",
    "\n",
    "## Why Learn Prolog?"
   ]
  },
  {
   "cell_type": "markdown",
   "id": "8eed9f77",
   "metadata": {},
   "source": [
    "- Do I get a job by solely learning Prolog? The answer is probably not. Prolog is not a general-purpose language and is currently used only in specific fields.\n",
    "\n",
    "- Does learning Prolog change your overall programming skill? Absolutely Yes. It uses a different paradigm than famous languages and teaches you how to tackle problems differently.\n",
    "\n",
    "- Does learning prolog help you get a better position in a company? That depends on the type of company. Suppose the company is related to Artificial Intelligence. In that case, your way of logical thinking that you get by learning Prolog and even the Prolog can help you be promoted to a better position.\n",
    "\n",
    "For other reasons why to learn Prolog, read [this article](http://dstrohmaier.com/why-learn-prolog-in-2021/).\n",
    "\n",
    "As a summary, I selected this sentence from the aforementioned article:\n",
    "\n",
    "\n",
    "\"As a student of computer science [engineering], one can make a decent career by always following the hype, but to stand out, one has to diverge from the well-trodden paths. Those willing to explore unpopular territory have a chance of being ahead of the crowd.\""
   ]
  },
  {
   "cell_type": "markdown",
   "id": "a707a86b",
   "metadata": {},
   "source": [
    "<div><a class=\"anchor\" id=\"installing-prolog\"></a></div>\n",
    "\n",
    "## Installing Prolog"
   ]
  },
  {
   "cell_type": "markdown",
   "id": "83a622e6",
   "metadata": {},
   "source": [
    "Actually, Prolog is a standard, and there are different implementations of it. Arguably, the most famous and widely used one is SWI-Prolog. You can download the SWI-Prolog installer from its site.\n",
    "[SWI-Prolog Download](https://www.swi-prolog.org/download/stable)\n",
    "\n",
    "If you use Windows, don't forget to **check the 'add swipl to the system PATH for all users' option** during the installation. If you forget to do so, you can manually add `C:\\Program Files\\swipl\\bin` to the system path, given that you used the default installation path."
   ]
  },
  {
   "cell_type": "markdown",
   "id": "ce140c75",
   "metadata": {},
   "source": [
    "There are some jupyter notebook kernels available, but they mostly work on particular OS builds. Therefore, we use a python package named pyswip that runs code using SWI-Prolog. You can see the full installation guide [here](https://github.com/yuce/pyswip/blob/master/INSTALL.md), but a simple pip install should suffice."
   ]
  },
  {
   "cell_type": "code",
   "execution_count": null,
   "id": "508c8999",
   "metadata": {},
   "outputs": [],
   "source": [
    "!pip install pyswip"
   ]
  },
  {
   "cell_type": "code",
   "execution_count": 2,
   "id": "1b7a63a6",
   "metadata": {},
   "outputs": [],
   "source": [
    "from pyswip import Prolog, registerForeign\n",
    "prolog = Prolog()"
   ]
  },
  {
   "cell_type": "markdown",
   "id": "e3e3b247",
   "metadata": {},
   "source": [
    "<div><a class=\"anchor\" id=\"prolog-101\"></a></div>\n",
    "\n",
    "## Prolog 101"
   ]
  },
  {
   "cell_type": "markdown",
   "id": "3d45b5fe",
   "metadata": {},
   "source": [
    "Like all programming language tutorials, the first thing is \"Hello World\"!\n",
    "\n",
    "```prolog\n",
    "write('Hello World'),nl,write('Let\\'s Learn Prolog!').\n",
    "```\n",
    "\n",
    "Note that all prolog statements must end with dot `.`.\n",
    "\n",
    "As we use pyswip here, we won't need Prolog `write`, because we can use python `print` and even use some python functions."
   ]
  },
  {
   "cell_type": "markdown",
   "id": "43b8c667",
   "metadata": {},
   "source": [
    "<div><a class=\"anchor\" id=\"terminologies\"></a></div>\n",
    "\n",
    "### Terminologies\n",
    "\n",
    "- **Fact**: A fact is a predicate expression that makes a declarative statement about the problem domain. Facts either consist of a particular item or a relation between items.\n",
    "\n",
    "```prolog\n",
    "rainy.\n",
    "\n",
    "father(michael , jane).\n",
    "```\n",
    "\n",
    "These two statements are both facts. `father` is a relationship. `rainy`,`michael`, and `jane` are *atoms* (constants). All *atoms* must start with **lowercase** letters unless they are enclosed in single quotes `'`.\n",
    "\n",
    "- **Rules**: rules allow us to make conditional statements. They are defined using `:-` symbol. `left :- right1,right2` says **IF** `right1` **and** `right2` is true, then left is also true. Note that `,` acts as *and* operator here.  Also `;` acts as *or* operator.\n",
    "\n",
    "- **Variables**: A Variable is an object we can't name at the time of execution. Variables are **uppercase**. \n",
    "\n",
    "- **Query**:  In making a query, you ask Prolog whether it can *prove* that your statement is true. In Prolog, a query is made with `?-` symbol, but in `pyswip` we can use `query(string)`.\n",
    "\n",
    "<div><a class=\"anchor\" id=\"simple-example\"></a></div>\n",
    "\n",
    "### Simple examle\n",
    "Let's see a simple example:"
   ]
  },
  {
   "cell_type": "code",
   "execution_count": 3,
   "id": "4d18d9f7",
   "metadata": {},
   "outputs": [],
   "source": [
    "prolog.assertz(\"father(michael,jane)\") \n",
    "prolog.assertz(\"child(X,Y) :- father(Y,X)\")"
   ]
  },
  {
   "cell_type": "code",
   "execution_count": 4,
   "id": "a8351fa9",
   "metadata": {
    "scrolled": true
   },
   "outputs": [
    {
     "name": "stdout",
     "output_type": "stream",
     "text": [
      "jane is child of michael\n"
     ]
    }
   ],
   "source": [
    "for solns in prolog.query(\"child(X , Y)\"): #X and Y are prolog variables. This two lines simply print all child relationships.\n",
    "    print(solns[\"X\"] , \"is child of\" , solns[\"Y\"])"
   ]
  },
  {
   "cell_type": "markdown",
   "id": "bdc11e3e",
   "metadata": {},
   "source": [
    "First line is a *fact* that says Michael is father of Jane. Second line is a *rule* that says if Y is a father of X then X is a child of Y. Note that X and Y are variables.\n",
    "\n",
    "In the `for`, we *query* for all `child` relationships and `print` them. Note that the result of `query()` is a python generator and must be used in a foreach statement or casted into a `list`.\n",
    "\n"
   ]
  },
  {
   "cell_type": "markdown",
   "id": "4158e6ac",
   "metadata": {},
   "source": [
    "`consult`: You can load a database of prolog statements using `consult`. It works both in prolog and pyswip. In prolog you can use both    `?- consult('file.pl').` and `['file1.pl'].`. In pyswip you can use `consult(path)` function."
   ]
  },
  {
   "cell_type": "markdown",
   "id": "1132d05a",
   "metadata": {},
   "source": [
    "Let's make a more complicated example and put it in a file named `1.pl`."
   ]
  },
  {
   "cell_type": "markdown",
   "id": "e46299c4",
   "metadata": {},
   "source": [
    "```prolog\n",
    "% 1.pl\n",
    "\n",
    "father(albert, bob).\n",
    "father(albert, betsy).\n",
    "father(albert, bill).\n",
    " \n",
    "mother(alice, bob).\n",
    "mother(alice, betsy).\n",
    "mother(alice, bill).\n",
    " \n",
    "father(bob, carl).\n",
    "father(bob, charlie).\n",
    "\n",
    "parent(X,Y) :- father(X,Y); mother(X,Y).\n",
    "\n",
    "grandparent(X,Y) :- parent(X,Z),parent(Z,Y). %X is grandparent of Y if X is parent of Z and Z is parent of Y\n",
    "\n",
    "grandchild(X,Y) :- parent(Z,X) , parent(Y,Z). %X is grandchild of Y if Y is parent of Z and Z is parent of X\n",
    "```"
   ]
  },
  {
   "cell_type": "code",
   "execution_count": 5,
   "id": "a1913bcc",
   "metadata": {},
   "outputs": [],
   "source": [
    "prolog.consult(\"prolog_files/1.pl\")"
   ]
  },
  {
   "cell_type": "code",
   "execution_count": 6,
   "id": "0e005f15",
   "metadata": {},
   "outputs": [
    {
     "name": "stdout",
     "output_type": "stream",
     "text": [
      "Albert is grandparent of carl\n",
      "Albert is grandparent of charlie\n",
      "Albert is grandchild of albert\n",
      "Albert is grandchild of alice\n"
     ]
    }
   ],
   "source": [
    "for solns in prolog.query(\"grandparent(albert , X)\"):\n",
    "    print(\"Albert\" , \"is grandparent of\" , solns[\"X\"])\n",
    "for solns in prolog.query(\"grandchild(carl , X)\"):\n",
    "    print(\"Albert\" , \"is grandchild of\" , solns[\"X\"])"
   ]
  },
  {
   "cell_type": "markdown",
   "id": "255dce9f",
   "metadata": {},
   "source": [
    "<div><a class=\"anchor\" id=\"examples\"></a></div>\n",
    "\n",
    "## Interesting Prolog Examples"
   ]
  },
  {
   "cell_type": "markdown",
   "id": "3e52b0c4",
   "metadata": {},
   "source": [
    "<div><a class=\"anchor\" id=\"hanoi\"></a></div>\n",
    "\n",
    "### Tower of Hanoi"
   ]
  },
  {
   "cell_type": "markdown",
   "id": "f45c438e",
   "metadata": {},
   "source": [
    "Tower of Hanoi is a very famous programming problem that is used to teach recursive functions. You can see the problem definition on [Wikipedia](https://en.wikipedia.org/wiki/Tower_of_Hanoi). Here we try to implement it in Prolog and solve a simple instance of it using pyswip."
   ]
  },
  {
   "cell_type": "markdown",
   "id": "402f7b65",
   "metadata": {},
   "source": [
    "```prolog\n",
    "% hanoi.pl\n",
    "\n",
    "hanoi(N) :- move(N, left, right, center).\n",
    "move(0, _, _, _) :- !.\n",
    "move(N, A, B, C) :-\n",
    "  M is N-1,\n",
    "  move(M, A, C, B),\n",
    "  notify([A,B]),\n",
    "  move(M, C, B, A).\n",
    "```"
   ]
  },
  {
   "cell_type": "markdown",
   "id": "ad8a3394",
   "metadata": {},
   "source": [
    "`hanoi(N)` will lead to calling `move(N)`. `move (0,_,_,_)` is the termination condition of recursive call, and `!` tells prolog to stop calling the function and backtracking. `_` matches (unifies) with everything; It is similar to \"don't care\" in logic circuits. `move(N,A,B,C)` is the actual recursive formulation of Tower of Hanoi. `is` operator is the same as `=` in other languages and here it means \"put `N-1` into `M`\". `notify` is a function that will be defined in python and we will use pyswip to bind prolog and python code together."
   ]
  },
  {
   "cell_type": "code",
   "execution_count": 7,
   "id": "5b7b15e6",
   "metadata": {},
   "outputs": [],
   "source": [
    "prolog.consult(\"prolog_files/hanoi.pl\")"
   ]
  },
  {
   "cell_type": "code",
   "execution_count": 8,
   "id": "7f3ebc44",
   "metadata": {},
   "outputs": [
    {
     "name": "stdout",
     "output_type": "stream",
     "text": [
      "move disk from left pole to right pole.\n",
      "move disk from left pole to center pole.\n",
      "move disk from right pole to center pole.\n",
      "move disk from left pole to right pole.\n",
      "move disk from center pole to left pole.\n",
      "move disk from center pole to right pole.\n",
      "move disk from left pole to right pole.\n"
     ]
    }
   ],
   "source": [
    "N= 3\n",
    "\n",
    "def notify(t):\n",
    "        print(\"move disk from %s pole to %s pole.\" % tuple(t))\n",
    "notify.arity = 1\n",
    "        \n",
    "registerForeign(notify)\n",
    "list(prolog.query(\"hanoi(%d)\" % N));"
   ]
  },
  {
   "cell_type": "markdown",
   "id": "750d83ea",
   "metadata": {},
   "source": [
    "`registerForeign` is used to make prolog run python's `notify` function. Also note that as we said before, `prolog.query()` makes a generator. Generators are not evaluated by default. They must be used in a foreach or casted into list to force python actually evaluate them."
   ]
  },
  {
   "cell_type": "markdown",
   "id": "c1f175f4",
   "metadata": {},
   "source": [
    "<div><a class=\"anchor\" id=\"coins-problem\"></a></div>\n",
    "\n",
    "### Coins Problem"
   ]
  },
  {
   "cell_type": "markdown",
   "id": "cbed41db",
   "metadata": {},
   "source": [
    "In a country, there are coins of 1,2,5,50 and 100. We want to find all the ways to sum at most `max_count` of these coins to get to a cumulative sum of `total`. We solve this in `coins.pl` file."
   ]
  },
  {
   "cell_type": "markdown",
   "id": "4083492b",
   "metadata": {},
   "source": [
    "```prolog\n",
    ":- use_module(library('bounds')).\n",
    "\n",
    "coins(S, Count, Total) :-\n",
    " \t% A=1, B=5, C=10, D=50, E=100\n",
    "\tS = [A, B, C, D, E],\n",
    "\t\n",
    "\tAv is   1,\n",
    "\tBv is   5,\n",
    "\tCv is  10,\n",
    "\tDv is  50,\n",
    "\tEv is 100,\n",
    "\t\n",
    "\tAup is Total // Av, % // means integer division\n",
    "\tBup is Total // Bv,\n",
    "\tCup is Total // Cv,\n",
    "\tDup is Total // Dv,\n",
    "\tEup is Total // Ev,\n",
    "\t\n",
    "\tA in 0..Aup,\n",
    "\tB in 0..Bup,\n",
    "\tC in 0..Cup,\n",
    "\tD in 0..Dup,\n",
    "\tE in 0..Eup,\n",
    "\t\n",
    "\tVA #= A*Av,\n",
    "\tVB #= B*Bv,\n",
    "\tVC #= C*Cv,\n",
    "\tVD #= D*Dv,\n",
    "\tVE #= E*Ev,\n",
    "\t\n",
    "\tsum(S, #=, Count),\n",
    "\tVA + VB + VC + VD + VE #= Total,\n",
    "\t\n",
    "\tlabel(S).\n",
    "```"
   ]
  },
  {
   "cell_type": "markdown",
   "id": "6e831b53",
   "metadata": {},
   "source": [
    "`bound` library is used to make the search space limited. For example if sum is `1000`, we could have at most `100` coins of value `10`. So `C` should be between `0` to `100`. `#=` is same as `=` for algebraic expressions. `sum (S,#=,Count)` means that sum of all elements in list `S` should be equal to `Count`. Elements of `S` indicate count of each coin."
   ]
  },
  {
   "cell_type": "code",
   "execution_count": 9,
   "id": "90f7987b",
   "metadata": {},
   "outputs": [],
   "source": [
    "prolog.consult(\"prolog_files/coins.pl\")"
   ]
  },
  {
   "cell_type": "code",
   "execution_count": 10,
   "id": "fe40af9f",
   "metadata": {
    "scrolled": true
   },
   "outputs": [
    {
     "name": "stdout",
     "output_type": "stream",
     "text": [
      "0 0x1 100x5 0x10 0x50 0x100 \n",
      "1 5x1 91x5 4x10 0x50 0x100 \n",
      "2 10x1 82x5 8x10 0x50 0x100 \n",
      "3 15x1 73x5 12x10 0x50 0x100 \n",
      "4 15x1 81x5 3x10 1x50 0x100 \n",
      "5 20x1 64x5 16x10 0x50 0x100 \n",
      "6 20x1 72x5 7x10 1x50 0x100 \n",
      "7 25x1 55x5 20x10 0x50 0x100 \n",
      "8 25x1 63x5 11x10 1x50 0x100 \n",
      "9 25x1 71x5 2x10 2x50 0x100 \n",
      "10 25x1 73x5 1x10 0x50 1x100 \n",
      "11 30x1 46x5 24x10 0x50 0x100 \n",
      "12 30x1 54x5 15x10 1x50 0x100 \n",
      "13 30x1 62x5 6x10 2x50 0x100 \n",
      "14 30x1 64x5 5x10 0x50 1x100 \n",
      "15 35x1 37x5 28x10 0x50 0x100 \n",
      "16 35x1 45x5 19x10 1x50 0x100 \n",
      "17 35x1 53x5 10x10 2x50 0x100 \n",
      "18 35x1 55x5 9x10 0x50 1x100 \n",
      "19 35x1 61x5 1x10 3x50 0x100 \n",
      "20 35x1 63x5 0x10 1x50 1x100 \n",
      "21 40x1 28x5 32x10 0x50 0x100 \n",
      "22 40x1 36x5 23x10 1x50 0x100 \n",
      "23 40x1 44x5 14x10 2x50 0x100 \n",
      "24 40x1 46x5 13x10 0x50 1x100 \n",
      "25 40x1 52x5 5x10 3x50 0x100 \n",
      "26 40x1 54x5 4x10 1x50 1x100 \n",
      "27 45x1 19x5 36x10 0x50 0x100 \n",
      "28 45x1 27x5 27x10 1x50 0x100 \n",
      "29 45x1 35x5 18x10 2x50 0x100 \n",
      "30 45x1 37x5 17x10 0x50 1x100 \n",
      "31 45x1 43x5 9x10 3x50 0x100 \n",
      "32 45x1 45x5 8x10 1x50 1x100 \n",
      "33 45x1 51x5 0x10 4x50 0x100 \n",
      "34 50x1 10x5 40x10 0x50 0x100 \n",
      "35 50x1 18x5 31x10 1x50 0x100 \n",
      "36 50x1 26x5 22x10 2x50 0x100 \n",
      "37 50x1 28x5 21x10 0x50 1x100 \n",
      "38 50x1 34x5 13x10 3x50 0x100 \n",
      "39 50x1 36x5 12x10 1x50 1x100 \n",
      "40 50x1 42x5 4x10 4x50 0x100 \n",
      "41 50x1 44x5 3x10 2x50 1x100 \n",
      "42 50x1 46x5 2x10 0x50 2x100 \n",
      "43 55x1 1x5 44x10 0x50 0x100 \n",
      "44 55x1 9x5 35x10 1x50 0x100 \n",
      "45 55x1 17x5 26x10 2x50 0x100 \n",
      "46 55x1 19x5 25x10 0x50 1x100 \n",
      "47 55x1 25x5 17x10 3x50 0x100 \n",
      "48 55x1 27x5 16x10 1x50 1x100 \n",
      "49 55x1 33x5 8x10 4x50 0x100 \n",
      "50 55x1 35x5 7x10 2x50 1x100 \n",
      "51 55x1 37x5 6x10 0x50 2x100 \n",
      "52 60x1 0x5 39x10 1x50 0x100 \n",
      "53 60x1 8x5 30x10 2x50 0x100 \n",
      "54 60x1 10x5 29x10 0x50 1x100 \n",
      "55 60x1 16x5 21x10 3x50 0x100 \n",
      "56 60x1 18x5 20x10 1x50 1x100 \n",
      "57 60x1 24x5 12x10 4x50 0x100 \n",
      "58 60x1 26x5 11x10 2x50 1x100 \n",
      "59 60x1 28x5 10x10 0x50 2x100 \n",
      "60 60x1 32x5 3x10 5x50 0x100 \n",
      "61 60x1 34x5 2x10 3x50 1x100 \n",
      "62 60x1 36x5 1x10 1x50 2x100 \n",
      "63 65x1 1x5 33x10 0x50 1x100 \n",
      "64 65x1 7x5 25x10 3x50 0x100 \n",
      "65 65x1 9x5 24x10 1x50 1x100 \n",
      "66 65x1 15x5 16x10 4x50 0x100 \n",
      "67 65x1 17x5 15x10 2x50 1x100 \n",
      "68 65x1 19x5 14x10 0x50 2x100 \n",
      "69 65x1 23x5 7x10 5x50 0x100 \n",
      "70 65x1 25x5 6x10 3x50 1x100 \n",
      "71 65x1 27x5 5x10 1x50 2x100 \n",
      "72 70x1 0x5 28x10 1x50 1x100 \n",
      "73 70x1 6x5 20x10 4x50 0x100 \n",
      "74 70x1 8x5 19x10 2x50 1x100 \n",
      "75 70x1 10x5 18x10 0x50 2x100 \n",
      "76 70x1 14x5 11x10 5x50 0x100 \n",
      "77 70x1 16x5 10x10 3x50 1x100 \n",
      "78 70x1 18x5 9x10 1x50 2x100 \n",
      "79 70x1 22x5 2x10 6x50 0x100 \n",
      "80 70x1 24x5 1x10 4x50 1x100 \n",
      "81 70x1 26x5 0x10 2x50 2x100 \n",
      "82 75x1 1x5 22x10 0x50 2x100 \n",
      "83 75x1 5x5 15x10 5x50 0x100 \n",
      "84 75x1 7x5 14x10 3x50 1x100 \n",
      "85 75x1 9x5 13x10 1x50 2x100 \n",
      "86 75x1 13x5 6x10 6x50 0x100 \n",
      "87 75x1 15x5 5x10 4x50 1x100 \n",
      "88 75x1 17x5 4x10 2x50 2x100 \n",
      "89 75x1 19x5 3x10 0x50 3x100 \n",
      "90 80x1 0x5 17x10 1x50 2x100 \n",
      "91 80x1 4x5 10x10 6x50 0x100 \n",
      "92 80x1 6x5 9x10 4x50 1x100 \n",
      "93 80x1 8x5 8x10 2x50 2x100 \n",
      "94 80x1 10x5 7x10 0x50 3x100 \n",
      "95 80x1 12x5 1x10 7x50 0x100 \n",
      "96 80x1 14x5 0x10 5x50 1x100 \n",
      "97 85x1 1x5 11x10 0x50 3x100 \n",
      "98 85x1 3x5 5x10 7x50 0x100 \n",
      "99 85x1 5x5 4x10 5x50 1x100 \n",
      "100 85x1 7x5 3x10 3x50 2x100 \n",
      "101 85x1 9x5 2x10 1x50 3x100 \n",
      "102 90x1 0x5 6x10 1x50 3x100 \n",
      "103 90x1 2x5 0x10 8x50 0x100 \n",
      "104 95x1 1x5 0x10 0x50 4x100 \n"
     ]
    }
   ],
   "source": [
    "max_count = 100\n",
    "total = 500\n",
    "for i, soln in enumerate(prolog.query(\"coins(S, %d, %d).\" % (max_count,total))):\n",
    "    S = zip(soln[\"S\"], [1, 5, 10, 50, 100])\n",
    "    print(i, end=\" \")\n",
    "    for c, v in S:\n",
    "        print(\"%dx%d\" % (c,v), end=\" \")\n",
    "    print()"
   ]
  },
  {
   "cell_type": "markdown",
   "id": "8af1546f",
   "metadata": {},
   "source": [
    "<div><a class=\"anchor\" id=\"N-Queens\"></a></div>\n",
    "\n",
    "### N-Queens"
   ]
  },
  {
   "cell_type": "markdown",
   "id": "57693c63",
   "metadata": {},
   "source": [
    "N-Queens is a famous problem that asks how to put N queens in an $N \\times N$ checkboard such that none of them threatens each other. As we know, in each column, there must be one queen, so we encode the state as an N-tuple in which element at index $i$ indicates which row the queen at column $i$ resides in. We can simply model this problem in Prolog like this:"
   ]
  },
  {
   "cell_type": "markdown",
   "id": "ba325141",
   "metadata": {},
   "source": [
    "```prolog\n",
    ":- use_module(library(clpfd)).\n",
    "\n",
    "n_queens(N, Qs) :-\n",
    "        length(Qs, N),\n",
    "        Qs ins 1..N, %ins is in clpfd library. It check that \"each\" element of Qs is in range 1 to N\n",
    "        safe_queens(Qs),\n",
    "\t\tlabel(Qs).\n",
    "\n",
    "safe_queens([]). %Empty list is a good combination.\n",
    "safe_queens([Q|Qs]) :- safe_queens(Qs, Q, 1), safe_queens(Qs).\n",
    "\n",
    "safe_queens([], _, _). %Empty list is a good combination.\n",
    "safe_queens([Q|Qs], Q0, D0) :-\n",
    "        Q0 #\\= Q,\n",
    "        abs(Q0 - Q) #\\= D0, %Diagonal Check\n",
    "        D1 #= D0 + 1,\n",
    "        safe_queens(Qs, Q0, D1).\n",
    "```"
   ]
  },
  {
   "cell_type": "code",
   "execution_count": 2,
   "id": "d30569d3",
   "metadata": {},
   "outputs": [],
   "source": [
    "prolog.consult(\"prolog_files/queens.pl\")"
   ]
  },
  {
   "cell_type": "code",
   "execution_count": 3,
   "id": "5dfea9fe",
   "metadata": {
    "scrolled": true
   },
   "outputs": [
    {
     "name": "stdout",
     "output_type": "stream",
     "text": [
      "1 .\t [1, 5, 8, 6, 3, 7, 2, 4]\n",
      "2 .\t [1, 6, 8, 3, 7, 4, 2, 5]\n",
      "3 .\t [1, 7, 4, 6, 8, 2, 5, 3]\n",
      "4 .\t [1, 7, 5, 8, 2, 4, 6, 3]\n",
      "5 .\t [2, 4, 6, 8, 3, 1, 7, 5]\n",
      "6 .\t [2, 5, 7, 1, 3, 8, 6, 4]\n",
      "7 .\t [2, 5, 7, 4, 1, 8, 6, 3]\n",
      "8 .\t [2, 6, 1, 7, 4, 8, 3, 5]\n",
      "9 .\t [2, 6, 8, 3, 1, 4, 7, 5]\n",
      "10 .\t [2, 7, 3, 6, 8, 5, 1, 4]\n",
      "11 .\t [2, 7, 5, 8, 1, 4, 6, 3]\n",
      "12 .\t [2, 8, 6, 1, 3, 5, 7, 4]\n",
      "13 .\t [3, 1, 7, 5, 8, 2, 4, 6]\n",
      "14 .\t [3, 5, 2, 8, 1, 7, 4, 6]\n",
      "15 .\t [3, 5, 2, 8, 6, 4, 7, 1]\n",
      "16 .\t [3, 5, 7, 1, 4, 2, 8, 6]\n",
      "17 .\t [3, 5, 8, 4, 1, 7, 2, 6]\n",
      "18 .\t [3, 6, 2, 5, 8, 1, 7, 4]\n",
      "19 .\t [3, 6, 2, 7, 1, 4, 8, 5]\n",
      "20 .\t [3, 6, 2, 7, 5, 1, 8, 4]\n",
      "21 .\t [3, 6, 4, 1, 8, 5, 7, 2]\n",
      "22 .\t [3, 6, 4, 2, 8, 5, 7, 1]\n",
      "23 .\t [3, 6, 8, 1, 4, 7, 5, 2]\n",
      "24 .\t [3, 6, 8, 1, 5, 7, 2, 4]\n",
      "25 .\t [3, 6, 8, 2, 4, 1, 7, 5]\n",
      "26 .\t [3, 7, 2, 8, 5, 1, 4, 6]\n",
      "27 .\t [3, 7, 2, 8, 6, 4, 1, 5]\n",
      "28 .\t [3, 8, 4, 7, 1, 6, 2, 5]\n",
      "29 .\t [4, 1, 5, 8, 2, 7, 3, 6]\n",
      "30 .\t [4, 1, 5, 8, 6, 3, 7, 2]\n",
      "31 .\t [4, 2, 5, 8, 6, 1, 3, 7]\n",
      "32 .\t [4, 2, 7, 3, 6, 8, 1, 5]\n",
      "33 .\t [4, 2, 7, 3, 6, 8, 5, 1]\n",
      "34 .\t [4, 2, 7, 5, 1, 8, 6, 3]\n",
      "35 .\t [4, 2, 8, 5, 7, 1, 3, 6]\n",
      "36 .\t [4, 2, 8, 6, 1, 3, 5, 7]\n",
      "37 .\t [4, 6, 1, 5, 2, 8, 3, 7]\n",
      "38 .\t [4, 6, 8, 2, 7, 1, 3, 5]\n",
      "39 .\t [4, 6, 8, 3, 1, 7, 5, 2]\n",
      "40 .\t [4, 7, 1, 8, 5, 2, 6, 3]\n",
      "41 .\t [4, 7, 3, 8, 2, 5, 1, 6]\n",
      "42 .\t [4, 7, 5, 2, 6, 1, 3, 8]\n",
      "43 .\t [4, 7, 5, 3, 1, 6, 8, 2]\n",
      "44 .\t [4, 8, 1, 3, 6, 2, 7, 5]\n",
      "45 .\t [4, 8, 1, 5, 7, 2, 6, 3]\n",
      "46 .\t [4, 8, 5, 3, 1, 7, 2, 6]\n",
      "47 .\t [5, 1, 4, 6, 8, 2, 7, 3]\n",
      "48 .\t [5, 1, 8, 4, 2, 7, 3, 6]\n",
      "49 .\t [5, 1, 8, 6, 3, 7, 2, 4]\n",
      "50 .\t [5, 2, 4, 6, 8, 3, 1, 7]\n",
      "51 .\t [5, 2, 4, 7, 3, 8, 6, 1]\n",
      "52 .\t [5, 2, 6, 1, 7, 4, 8, 3]\n",
      "53 .\t [5, 2, 8, 1, 4, 7, 3, 6]\n",
      "54 .\t [5, 3, 1, 6, 8, 2, 4, 7]\n",
      "55 .\t [5, 3, 1, 7, 2, 8, 6, 4]\n",
      "56 .\t [5, 3, 8, 4, 7, 1, 6, 2]\n",
      "57 .\t [5, 7, 1, 3, 8, 6, 4, 2]\n",
      "58 .\t [5, 7, 1, 4, 2, 8, 6, 3]\n",
      "59 .\t [5, 7, 2, 4, 8, 1, 3, 6]\n",
      "60 .\t [5, 7, 2, 6, 3, 1, 4, 8]\n",
      "61 .\t [5, 7, 2, 6, 3, 1, 8, 4]\n",
      "62 .\t [5, 7, 4, 1, 3, 8, 6, 2]\n",
      "63 .\t [5, 8, 4, 1, 3, 6, 2, 7]\n",
      "64 .\t [5, 8, 4, 1, 7, 2, 6, 3]\n",
      "65 .\t [6, 1, 5, 2, 8, 3, 7, 4]\n",
      "66 .\t [6, 2, 7, 1, 3, 5, 8, 4]\n",
      "67 .\t [6, 2, 7, 1, 4, 8, 5, 3]\n",
      "68 .\t [6, 3, 1, 7, 5, 8, 2, 4]\n",
      "69 .\t [6, 3, 1, 8, 4, 2, 7, 5]\n",
      "70 .\t [6, 3, 1, 8, 5, 2, 4, 7]\n",
      "71 .\t [6, 3, 5, 7, 1, 4, 2, 8]\n",
      "72 .\t [6, 3, 5, 8, 1, 4, 2, 7]\n",
      "73 .\t [6, 3, 7, 2, 4, 8, 1, 5]\n",
      "74 .\t [6, 3, 7, 2, 8, 5, 1, 4]\n",
      "75 .\t [6, 3, 7, 4, 1, 8, 2, 5]\n",
      "76 .\t [6, 4, 1, 5, 8, 2, 7, 3]\n",
      "77 .\t [6, 4, 2, 8, 5, 7, 1, 3]\n",
      "78 .\t [6, 4, 7, 1, 3, 5, 2, 8]\n",
      "79 .\t [6, 4, 7, 1, 8, 2, 5, 3]\n",
      "80 .\t [6, 8, 2, 4, 1, 7, 5, 3]\n",
      "81 .\t [7, 1, 3, 8, 6, 4, 2, 5]\n",
      "82 .\t [7, 2, 4, 1, 8, 5, 3, 6]\n",
      "83 .\t [7, 2, 6, 3, 1, 4, 8, 5]\n",
      "84 .\t [7, 3, 1, 6, 8, 5, 2, 4]\n",
      "85 .\t [7, 3, 8, 2, 5, 1, 6, 4]\n",
      "86 .\t [7, 4, 2, 5, 8, 1, 3, 6]\n",
      "87 .\t [7, 4, 2, 8, 6, 1, 3, 5]\n",
      "88 .\t [7, 5, 3, 1, 6, 8, 2, 4]\n",
      "89 .\t [8, 2, 4, 1, 7, 5, 3, 6]\n",
      "90 .\t [8, 2, 5, 3, 1, 7, 4, 6]\n",
      "91 .\t [8, 3, 1, 6, 2, 5, 7, 4]\n",
      "92 .\t [8, 4, 1, 3, 6, 2, 7, 5]\n"
     ]
    }
   ],
   "source": [
    "for i,soln in enumerate(prolog.query(\"n_queens(%d, Qs).\" % (8))):\n",
    "    print(i+1,\".\\t\",soln[\"Qs\"])\n"
   ]
  },
  {
   "cell_type": "markdown",
   "id": "6df39417",
   "metadata": {},
   "source": [
    "As you can see, it has found all 92 unique solutions of 8-Queen. You can test it with other numbers too. The code we wrote for this problem is much less than its implementation in most general purpose langauges and yet, it is very elegant and can be understood with little to no effort if you are familiar with prolog syntax."
   ]
  },
  {
   "cell_type": "markdown",
   "id": "62a87bc2",
   "metadata": {},
   "source": [
    "<div><a class=\"anchor\" id=\"ref\"></a></div>\n",
    "\n",
    "## Good References to Learn Prolog, Pyswip, and their applications:"
   ]
  },
  {
   "cell_type": "markdown",
   "id": "34703307",
   "metadata": {},
   "source": [
    "- https://www.metalevel.at/prolog\n",
    "- https://github.com/yuce/pyswip\n",
    "- [The Power of Prolog YouTube Channel](https://www.youtube.com/channel/UCFFeNyzCEQDS4KCecugmotg)"
   ]
  }
 ],
 "metadata": {
  "kernelspec": {
   "display_name": "Python 3 (ipykernel)",
   "language": "python",
   "name": "python3"
  },
  "language_info": {
   "codemirror_mode": {
    "name": "ipython",
    "version": 3
   },
   "file_extension": ".py",
   "mimetype": "text/x-python",
   "name": "python",
   "nbconvert_exporter": "python",
   "pygments_lexer": "ipython3",
   "version": "3.9.6"
  }
 },
 "nbformat": 4,
 "nbformat_minor": 5
}
