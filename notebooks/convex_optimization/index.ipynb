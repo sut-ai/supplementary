{
 "cells": [
  {
   "cell_type": "markdown",
   "metadata": {},
   "source": [
    "# In the Name of God\n",
    "\n",
    "\n",
    "Amirmahdi Namjoo"
   ]
  },
  {
   "cell_type": "markdown",
   "metadata": {},
   "source": [
    "\n",
    "\n",
    "## Introduction\n",
    "Convex Optimization is a subfield of mathematical optimization that studies the problem of minimizing convex functions over convex sets. Many methods are classified as convex optimization.\n",
    "Although it is instrumental in Artificial Intelligence, Convex Optimization is a general technique that does not limit to Artificial Intelligence and has applications in various fields, such as information and communication systems, circuit design, portfolio optimization (stock exchange), and many others more.\n",
    "This Notebook will cover the fundamental theoretical concepts and optimization and convex optimization and show some simple Python examples to learn how to use this technique.\n",
    "\n",
    "\n",
    "\n",
    "To define Convex Optimization, we must first look at the definitions of optimization and convex functions."
   ]
  },
  {
   "cell_type": "markdown",
   "metadata": {},
   "source": [
    "\n",
    "\n",
    "## What is Optimization?"
   ]
  },
  {
   "cell_type": "markdown",
   "metadata": {},
   "source": [
    "\n",
    "\n",
    "Mathematical optimization is selecting the best element, subject to some criterion from a set of available alternatives. It must be noted that the word Optimization is used in many different contexts. For example, we have Compiler Optimization in programming language implementation and compiler theory, which is very different from what we will talk about. In this notebook, whenever you see optimization, it means \"Mathematical Optimization.\" \n",
    "\n",
    "Many definitions try to formalize the definition of Mathematical Optimization. Here, we present one of the most used notations.\n",
    "\n",
    "$$\n",
    "\\text{minimize} \\hspace{1cm} f_0(x)\n",
    "$$\n",
    "$$\\hspace{3.1cm} \\text{subject to} \\hspace{1cm} f_i(x) \\leq 0, i=1,\\cdots,m$$\n",
    "$$\\hspace{5.7cm} g_i(x) = 0, i=1,\\cdots,p$$\n",
    "\n",
    "In which $x \\in \\mathbb{R}^n$ is a vector varialbe to be chosen. $f_0$ is the objective function to be minimized. $f_1,\\cdots,f_m$ are the inequality constraint functions. And $g_1,\\cdots,g_p$ are the equality constraint functions.\n",
    "\n",
    "There are various variations of these notations, but they can easily be transformed to the one presented above. For example the problem of maximizing function $f_0(x)$ could easily be transformed into the problem of minimizing function $-f_o(x)$.\n",
    "\n",
    "There are two aspects in optimization problems:\n",
    "\n",
    "- Finding good models\n",
    "- Solving the problem\n",
    "\n",
    "Each of these two aspects is as important as the other one. If you don't have a good model, solving it will not help you solve the real-world problem.\n",
    "\n",
    "A model is a mapping from the real-world high-level description of the problem to the mathematical notations. For example, in circuit design problems, x can represent the specifications of the actual design, like the placement of each component and other technical information. Constraints come from the physical limitations of the manufacturing process and performance requirements, and last, but not least, the objective function can be a combination of cost, weight, power, area, etc. We should define all of these aspects mathematically in order to have a good model.\n",
    "\n",
    "There are multiple methods to solve the problem. Convex Optimization focuses on methods of solving specific but prevalent types of optimization problems. More on that later."
   ]
  },
  {
   "cell_type": "markdown",
   "metadata": {},
   "source": [
    "\n",
    "\n",
    "## What do we mean by Convex?"
   ]
  },
  {
   "cell_type": "markdown",
   "metadata": {},
   "source": [
    "If you remember High School geometry, a convex polygon is a polygon in which no line segment between two points on the boundary ever goes outside the polygon.\n",
    "\n",
    "Convex functions and Convex sets follow the same intuition. A function $f: D \\to \\mathbb{R}$ is called convex if and only if the following condition holds:\n",
    "\n",
    "- For all $0\\leq \\theta \\leq 1$ and all $x_1 , x_2 \\in X$: $f(\\theta x_1 + (1-\\theta) x_2) \\leq \\theta f(x_1) + (1-\\theta) f(x_2)$.\n",
    "\n",
    "Also a function is Strictly Convex if and olny if the following confition holds:\n",
    "\n",
    "- For all $0\\ < \\theta < 1$ and all $x_1 , x_2 \\in X$: $f(\\theta x_1 + (1-\\theta) x_2) < \\theta f(x_1) + (1-\\theta) f(x_2)$.\n",
    "\n",
    "<center><img src=\"images/ConvexFunction.svg\" style=\"width: 90%;\"/></center>\n",
    "\n",
    "Assume we have two points $(x_1 , f(x_1)) , (x_2 , f(x_2))$ and we connect them with a straight line. If the function $f$ is convex, then all other points on the function between $x_1$ and $x_2$ must reside under this line.\n",
    "\n",
    "\n",
    "A convex set is an affine space over the reals that, given any two points in it, the set contains the whole line segment that joins them.\n",
    "\n",
    "<center><img src=\"images/ConvexPolygon.svg\" style=\"width: 40%;\"/></center>\n",
    "\n"
   ]
  },
  {
   "cell_type": "markdown",
   "metadata": {},
   "source": [
    "\n",
    "\n",
    "## Convex Optimization Problem"
   ]
  },
  {
   "cell_type": "markdown",
   "metadata": {},
   "source": [
    "The Convex Optimization problem most used notation is\n",
    "$$\n",
    "\\text{minimize} \\hspace{1cm} f_0(x)\n",
    "$$\n",
    "$$\\hspace{3.1cm} \\text{subject to} \\hspace{1cm} f_i(x) \\leq 0, i=1,\\cdots,m$$\n",
    "$$\\hspace{3.0cm} A x = b$$\n",
    "\n",
    "\n",
    "In which $x \\in \\mathbb{R^n}$ and $f_0 ,... , f_m$ are convex. Also, we must note that equality constraints are linear and cannot be arbitrary functions. To show linear equations, we use matrix notations. If we want to have $p$ different equality constraints, we denote it as multiplication of a $p \\times n$ matrix $A$ and a $n\\times1$ column vector variable $x$; therefore, the other side of the equation will be a $p\\times 1$ column vector. \n",
    "\n",
    "Convex functions have a lot of good properties that help us get to the result easier. You can find some of these properties in [Wikipedia](https://en.wikipedia.org/wiki/Convex_function#Properties). These properties lead to some crucial properties of convex optimization problems:\n",
    "\n",
    "- Every local minimum is a global minimum.\n",
    "- The optimal set is convex.\n",
    "- If the objective function is strictly convex, then the problem has at most one optimal point.\n",
    "\n",
    "\n",
    "These properties lead to methods that can numerically solve convex optimization problems in polynomial time.\n",
    "\n",
    "Because of having efficient methods, we usually try to formulate optimization problems as convex. Some problems can easily be transformed into this format, but we need some tricks for other problems. Some of the more common tricks are listed here:\n",
    "\n",
    "- Change of variables\n",
    "- Approximation of true objective function and constraints.\n",
    "- Relaxation: ignoring some constraints that are hard to handle.\n",
    "\n"
   ]
  },
  {
   "cell_type": "markdown",
   "metadata": {},
   "source": [
    "\n",
    "\n",
    "## Convex Optimization Applications"
   ]
  },
  {
   "cell_type": "markdown",
   "metadata": {},
   "source": [
    "Many optimization methods are different cases of convex optimization or can be reduced to convex optimization with some tricks. You can see a small list of some well-known optimization methods that can be reduced to convex optimization. You may be familiar with some of these concepts. This list shows how robust convex optimization is.\n",
    "\n",
    "- Least Squares Method\n",
    "    - [Youtube video: Basics of Least Squares Method](https://www.youtube.com/watch?v=P8hT5nDai6A)\n",
    "    - [Webiste: Python guide on Least Squares Regression](https://www.edureka.co/blog/least-square-regression/)\n",
    "- Linear Programming\n",
    "    - [Youtube video: Basics of Linear Programming](https://www.youtube.com/watch?v=Bzzqx1F23a8)\n",
    "    - [Youtube video: Solving a simple example using Linear Programming](https://www.youtube.com/watch?v=reKV1lRn_uw)\n",
    "    - [Website: Python guide on Linear Programming](https://realpython.com/linear-programming-python/)\n",
    "- Quadratic Programming \n",
    "    - [Youtube video: Overview of Quadratic Programming](https://www.youtube.com/watch?v=GZb9647X8sg)\n",
    "    - [Website: Quadratic Programming in Python](https://scaron.info/blog/quadratic-programming-in-python.html)\n",
    "- Geometric Programming\n",
    "    - [Educatioanl Article: A tutorial on Geometric Programming (Stanford University)](https://web.stanford.edu/~boyd/papers/pdf/gp_tutorial.pdf)\n",
    "- Some variations of Statistical Regression (including Regularization)\n",
    "    - [Youtube Video: Excellent Introduction to Regularization Part 1](https://www.youtube.com/watch?v=Q81RR3yKn30)\n",
    "    - [Youtube Video: Excellent Introduction to Regularization Part 2](https://www.youtube.com/watch?v=NGf0voTMlcs)\n",
    "    - [Youtube Video: Excellent Introduction to Regularization Part 3](https://www.youtube.com/watch?v=1dKRdX9bfIo)\n",
    "- Combinatorial Optimization\n",
    "    - [Youtube Video: Combinatorial Optimization @ Google](https://www.youtube.com/watch?v=iF2rHY318iU)\n",
    "    - [Youtube Video: Google TechTalk about Combinatorial Optimization](https://www.youtube.com/watch?v=p_PK1CuEuAE)\n",
    "    - [Book: Combinatorial Optimization - Bernhard Korte, Jens Vygen](https://www.springer.com/gp/book/9783540292975)"
   ]
  },
  {
   "cell_type": "markdown",
   "metadata": {},
   "source": [
    "Moreover, Convex Optimization is used in many different scientific fields and areas. Here we list some application areas of Convex Optimization. Below each item, you can see one or more links to sites containing more information about the subject or the application of convex optimization in that area.\n"
   ]
  },
  {
   "cell_type": "markdown",
   "metadata": {},
   "source": [
    "- Machine Learning:\n",
    "\n",
    "    - [Lecture: Introduction to Convex Optimization for Machine Learning (University of California, Berkeley)](https://people.eecs.berkeley.edu/~jordan/courses/294-fall09/lectures/optimization/slides.pdf)\n",
    "    - [Webiste: Convex Optimization in Deep Learning](https://medium.com/lsc-psd/convex-optimization-in-deep-learning-ea90f1ed1c5d)\n",
    "- Finance\n",
    "    - [Lecture: Convex Optimization in Finance (Baruch College, New York)](https://mfe.baruch.cuny.edu/wp-content/uploads/2014/12/Opt_Lecture5_2019.pdf)\n",
    "- Signal Processing and Communications\n",
    "    - [Book: Convex Optimization in Signal Processing and Communications - Daniel P. Palomar, Yonina C. Eldar](https://books.google.nl/books/about/Convex_Optimization_in_Signal_Processing.html?id=UOpnvPJ151gC&source=kp_book_description&redir_esc=y)\n",
    "- Circuit Design\n",
    "    - [Website: Basic Introduction to Circuit Design (Wikipedia)](https://en.wikipedia.org/wiki/Circuit_design)\n",
    "    - [Article: A good article on using convex optimization for circuit design](https://chic.caltech.edu/wp-content/uploads/2014/03/Lavaei-CDC2009.pdf)\n",
    "- System and Control Theory\n",
    "    - [Lecture: Convex Optimization in\n",
    "System and Control Theory (Stanford University)](https://stanford.edu/~boyd/papers/pdf/siam_conf_control_talk.pdf)\n",
    "- Quantum Information Theory\n",
    "    - [Website: Quantum Information Fundamentals](https://physicsworld.com/a/fundamentals-of-quantum-information/)\n",
    "    - [Lecture: Quantum Information and Convex Optimization (MIT)](http://www.mit.edu/~aram/talks/14/convex-quantum.pdf)\n",
    "    - [Youtube video: Tutorial on Quantum Information and Convex Optimization (Cambridge University)](https://www.youtube.com/watch?v=7nwwX-dx1L4)\n",
    "- Flux Balance Analysis (A computational biology method related to metabolism networks)\n",
    "    - [Website: Flux Balance Analysis (Wikipedia)](https://en.wikipedia.org/wiki/Flux_balance_analysis)"
   ]
  },
  {
   "cell_type": "markdown",
   "metadata": {},
   "source": [
    "## Problems that can be reduced to Convex Optimization"
   ]
  },
  {
   "cell_type": "code",
   "execution_count": null,
   "metadata": {},
   "outputs": [],
   "source": []
  }
 ],
 "metadata": {
  "kernelspec": {
   "display_name": "Python 3",
   "language": "python",
   "name": "python3"
  },
  "language_info": {
   "codemirror_mode": {
    "name": "ipython",
    "version": 3
   },
   "file_extension": ".py",
   "mimetype": "text/x-python",
   "name": "python",
   "nbconvert_exporter": "python",
   "pygments_lexer": "ipython3",
   "version": "3.7.4"
  }
 },
 "nbformat": 4,
 "nbformat_minor": 5
}
