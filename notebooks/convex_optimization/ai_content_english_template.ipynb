{
 "cells": [
  {
   "cell_type": "markdown",
   "metadata": {},
   "source": [
    "<div style=\"direction:ltr;line-height:300%;\">\n",
    "\t<font face=\"Arial\" size=5>\n",
    "\t\t<div align=center>\n",
    "\t\t\t\t<p></p>\n",
    "\t\t\t\t<p></p>\n",
    "In the Name of God\n",
    "            <p></p>\n",
    "<br>\n",
    "            Sharif University of Technology\n",
    "            <br>\n",
    "Computer Engineering Department\n",
    "            <p></p>\n",
    "Artificial Intelligence Course\n",
    "            <br />\n",
    "\t\t\t<br />\n",
    "            MohammadHossein Rohban\n",
    "            <br />\n",
    "Fall 2021\n",
    "        </div>\n",
    "\t\t<hr/>\n",
    "\t\t\t<div align=center>\n",
    "Content Subject\n",
    "        </div>\n",
    "\t\t<br />\n",
    "\t\t<div align=center>\n",
    "John Doe\n",
    "        </div>\n",
    "\t\t<hr />\n",
    "\t\t<style type=\"text/css\" scoped>\n",
    "        p{\n",
    "        border: 1px solid #a2a9b1;background-color: #f8f9fa;display: inline-block;\n",
    "        };\n",
    "        </style>\n",
    "\t\t<div>\n",
    "\t\t\t<h3>Table of Contents</h3>\n",
    "\t\t\t<ul style=\"margin-right: 0;\">\n",
    "\t\t\t\t<li>\n",
    "                    <a href=\"#sec_intro\">\n",
    "                        Introduction\n",
    "                    </a>\n",
    "                </li>\n",
    "                <li>\n",
    "\t\t\t\t\t<a href=\"#sec_1\">\n",
    "                    Section 1\n",
    "                    </a>\n",
    "\t\t\t\t</li>\n",
    "                <li>\n",
    "\t\t\t\t\t<a href=\"#sec_2\">\n",
    "                Section 2\n",
    "                    </a>\n",
    "\t\t\t\t</li>\n",
    "\t\t\t</ul>\n",
    "\t\t</div>\n",
    "\t</font>\n",
    "</div>"
   ]
  },
  {
   "cell_type": "markdown",
   "metadata": {},
   "source": [
    "<p></p>\n",
    "<br />\n",
    "<div id=\"sec_intro\" style=\"direction:ltr;line-height:300%;\">\n",
    "\t<font face=\"Arial\" size=5>\n",
    "\t\t<font color=#888888 size=6>\n",
    "Introduction\n",
    "        </font>\n",
    "\t\t<p></p>\n",
    "\t\t<hr>\n",
    "Introduction goes here...\n",
    "        <br>\n",
    "        <br/>"
   ]
  },
  {
   "cell_type": "markdown",
   "metadata": {},
   "source": [
    "<p></p>\n",
    "<br />\n",
    "<div id=\"sec_1\" style=\"direction:ltr;line-height:300%;\">\n",
    "\t<font face=\"Arial\" size=5>\n",
    "\t\t<font color=#888888 size=6>\n",
    "Section 1\n",
    "        </font>\n",
    "\t\t<p></p>\n",
    "\t\t<hr>\n",
    "Section 1 goes here...\n",
    "        <br>\n",
    "        <br/>"
   ]
  },
  {
   "cell_type": "code",
   "execution_count": null,
   "metadata": {},
   "outputs": [],
   "source": [
    "# your code goes here"
   ]
  },
  {
   "cell_type": "markdown",
   "metadata": {},
   "source": [
    "<p></p>\n",
    "<br />\n",
    "<div id=\"sec_2\" style=\"direction:ltr;line-height:300%;\">\n",
    "\t<font face=\"Arial\" size=5>\n",
    "\t\t<font color=#888888 size=6>\n",
    "Section 2\n",
    "        </font>\n",
    "\t\t<p></p>\n",
    "\t\t<hr>\n",
    "Section 2 goes here...\n",
    "        <br>\n",
    "        <br/>"
   ]
  },
  {
   "cell_type": "markdown",
   "metadata": {},
   "source": [
    "<p></p>\n",
    "<br/>\n",
    "<div id=\"sec_refs\" style=\"direction:ltr;line-height:300%;\">\n",
    "\t<font face=\"Arial\" size=5>\n",
    "\t\t<font color=#888888 size=6>\n",
    "References\n",
    "        </font>\n",
    "\t\t<hr>       \n",
    "        <ul>\n",
    "            <li>\n",
    "Reference 1\n",
    "            </li>\n",
    "            <li>\n",
    "Reference 2\n",
    "            </li>\n",
    "        </ul>\n",
    "\t</font>\n",
    "</div>"
   ]
  },
  {
   "cell_type": "code",
   "execution_count": null,
   "metadata": {},
   "outputs": [],
   "source": []
  }
 ],
 "metadata": {
  "kernelspec": {
   "display_name": "Python 3",
   "language": "python",
   "name": "python3"
  },
  "language_info": {
   "codemirror_mode": {
    "name": "ipython",
    "version": 3
   },
   "file_extension": ".py",
   "mimetype": "text/x-python",
   "name": "python",
   "nbconvert_exporter": "python",
   "pygments_lexer": "ipython3",
   "version": "3.7.4"
  }
 },
 "nbformat": 4,
 "nbformat_minor": 2
}
