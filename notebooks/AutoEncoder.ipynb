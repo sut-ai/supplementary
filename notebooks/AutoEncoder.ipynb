{
  "nbformat": 4,
  "nbformat_minor": 0,
  "metadata": {
    "colab": {
      "name": "AutoEncoder.ipynb",
      "provenance": []
    },
    "kernelspec": {
      "name": "python3",
      "display_name": "Python 3"
    },
    "language_info": {
      "name": "python"
    },
    "accelerator": "GPU"
  },
  "cells": [
    {
      "cell_type": "markdown",
      "source": [
        "##Topic: AutoEncoder\n",
        "## Author: Atoosa Chegini"
      ],
      "metadata": {
        "id": "Z4S2v4kBZTzk"
      }
    },
    {
      "cell_type": "markdown",
      "source": [
        "## AutoEncoder\n",
        "An autoencoder has two parts: an **encoder** and a **decoder**.\n",
        "\n",
        "\n",
        "The encoder reduces the dimensions of input data so that the original information is compressed.\n",
        "![Encoder](https://miro.medium.com/max/425/1*Dc3WI46OHvgu4c09nU4H4g.png)\n",
        "\n",
        "The decoder restores the original information from the compressed data.\n",
        "\n",
        "\n",
        "![Decoder](https://miro.medium.com/max/424/1*CO3-zpukfra4osABDfGc_Q.png)\n",
        "\n",
        "The autoencoder is a neural network that learns to encode and decode automatically. In this notebook we will learn how to implement a simple autoencoder and will see the application of this kind of Neural Network."
      ],
      "metadata": {
        "id": "QOi3tumx6560"
      }
    },
    {
      "cell_type": "markdown",
      "source": [
        "Our dataset here is **[MNIST](http://yann.lecun.com/exdb/mnist/)**, which is a well known database of handwritten digits. Keras has MNIST dataset utility. We can download the data as follows:"
      ],
      "metadata": {
        "id": "Zr2ge8-j8hlh"
      }
    },
    {
      "cell_type": "code",
      "execution_count": 1,
      "metadata": {
        "colab": {
          "base_uri": "https://localhost:8080/"
        },
        "id": "N5eKa3ZBp5vb",
        "outputId": "85a4eddd-d6e7-449d-80fa-cc9399bd89bb"
      },
      "outputs": [
        {
          "output_type": "stream",
          "name": "stdout",
          "text": [
            "Downloading data from https://storage.googleapis.com/tensorflow/tf-keras-datasets/mnist.npz\n",
            "11493376/11490434 [==============================] - 0s 0us/step\n",
            "11501568/11490434 [==============================] - 0s 0us/step\n"
          ]
        }
      ],
      "source": [
        "import tensorflow as tf\n",
        "from tensorflow import keras\n",
        "(X_train, _), (X_test, _) = keras.datasets.mnist.load_data()"
      ]
    },
    {
      "cell_type": "markdown",
      "source": [
        "We can see the shape of each image in the dataset by using the code below."
      ],
      "metadata": {
        "id": "IEgghWzS9CmX"
      }
    },
    {
      "cell_type": "code",
      "source": [
        "# The ourput is the shape of the image with index zero. (their shapes are all the same!)\n",
        "X_train[0].shape"
      ],
      "metadata": {
        "colab": {
          "base_uri": "https://localhost:8080/"
        },
        "id": "pySz7ZM_8_bv",
        "outputId": "e81b1030-9f48-4aba-afb7-d15435c709a0"
      },
      "execution_count": 2,
      "outputs": [
        {
          "output_type": "execute_result",
          "data": {
            "text/plain": [
              "(28, 28)"
            ]
          },
          "metadata": {},
          "execution_count": 2
        }
      ]
    },
    {
      "cell_type": "code",
      "source": [
        "from matplotlib import pyplot as plt\n",
        "import numpy as np\n",
        "\n",
        "plt.imshow(np.array(X_test[0], dtype='float').reshape((28, 28)), cmap='gray')\n",
        "plt.show()"
      ],
      "metadata": {
        "colab": {
          "base_uri": "https://localhost:8080/",
          "height": 265
        },
        "id": "sdBrTjw5LRC6",
        "outputId": "e56d63d8-96c8-4344-e457-9917c61336ec"
      },
      "execution_count": 5,
      "outputs": [
        {
          "output_type": "display_data",
          "data": {
            "image/png": "[encoded data removed]",
            "text/plain": [
              "<Figure size 432x288 with 1 Axes>"
            ]
          },
          "metadata": {
            "needs_background": "light"
          }
        }
      ]
    },
    {
      "cell_type": "markdown",
      "source": [
        "##Simple Autoencoder\n",
        "\n",
        "We start with a simple autoencoder based on a fully connected layers. One hidden layer handles the encoding, and the output layer handles the decoding.\n",
        "Each of the input images is flatten to an array of 784 (=28×28) data points. This is then compressed into 32 data points by the fully connected layer."
      ],
      "metadata": {
        "id": "SgHTcG0K9vRq"
      }
    },
    {
      "cell_type": "code",
      "source": [
        "from tensorflow.keras import layers\n",
        "inputs  = layers.Input(shape=(784,))           # 28*28 flatten\n",
        "enc_fc  = layers.Dense( 32, activation='relu') # to 32 data points\n",
        "encoded = enc_fc(inputs)"
      ],
      "metadata": {
        "id": "trLrHAq89sDj"
      },
      "execution_count": 6,
      "outputs": []
    },
    {
      "cell_type": "markdown",
      "source": [
        "Then, we decode the encoded data to the original 784 data points. The sigmoid will return values between 0 and 1 for each pixel (intensity)."
      ],
      "metadata": {
        "id": "UyWtcFyH-KOm"
      }
    },
    {
      "cell_type": "code",
      "source": [
        "dec_fc  = layers.Dense(784, activation='sigmoid') # to 784 data points\n",
        "decoded = dec_fc(encoded)"
      ],
      "metadata": {
        "id": "CLqhCif7-Juz"
      },
      "execution_count": 7,
      "outputs": []
    },
    {
      "cell_type": "markdown",
      "source": [
        "This whole processing becomes the trainable autoencoder model."
      ],
      "metadata": {
        "id": "YsWc7V7x-QrQ"
      }
    },
    {
      "cell_type": "code",
      "source": [
        "from keras.models import Model \n",
        "autoencoder = Model(inputs, decoded)\n",
        "autoencoder.compile(optimizer='adam', loss='binary_crossentropy')"
      ],
      "metadata": {
        "id": "IbN7KJCR-FeV"
      },
      "execution_count": 8,
      "outputs": []
    },
    {
      "cell_type": "markdown",
      "source": [
        "Next, we are going to show you what is the benefit of autoencoders. therefore, We preprocess the MNIST image data so that image data are normalized between 0 and 1."
      ],
      "metadata": {
        "id": "hgjV7PIV-v7A"
      }
    },
    {
      "cell_type": "code",
      "source": [
        "def preprocess(x):\n",
        "    x = x.astype('float32') / 255.\n",
        "    return x.reshape(-1, np.prod(x.shape[1:])) # flatten\n",
        "X_train = preprocess(X_train)\n",
        "X_test  = preprocess(X_test)"
      ],
      "metadata": {
        "id": "hRLB-qcV-vWD"
      },
      "execution_count": 9,
      "outputs": []
    },
    {
      "cell_type": "markdown",
      "source": [
        "We also split the train data into a train set and a validation set."
      ],
      "metadata": {
        "id": "7ArSRDNy_BR_"
      }
    },
    {
      "cell_type": "code",
      "source": [
        "from sklearn.model_selection import train_test_split\n",
        "\n",
        "# also create a validation set for training\n",
        "X_train, X_valid = train_test_split(X_train, test_size=500)"
      ],
      "metadata": {
        "id": "4Tt5OGL_-9s-"
      },
      "execution_count": 10,
      "outputs": []
    },
    {
      "cell_type": "markdown",
      "source": [
        "We train the autoencoder which compress the input image and then restore to the original size. As such, our training data and label data are both the same image data."
      ],
      "metadata": {
        "id": "_dUDFJYy_OWk"
      }
    },
    {
      "cell_type": "code",
      "source": [
        "autoencoder.fit(X_train, X_train, # data and label are the same\n",
        "                epochs=50, \n",
        "                batch_size=128, \n",
        "                validation_data=(X_valid, X_valid))"
      ],
      "metadata": {
        "colab": {
          "base_uri": "https://localhost:8080/"
        },
        "id": "Vvn-50RX-nGG",
        "outputId": "787a30a8-0799-4b0d-d61a-4e32c62128d0"
      },
      "execution_count": 11,
      "outputs": [
        {
          "output_type": "stream",
          "name": "stdout",
          "text": [
            "Epoch 1/50\n",
            "465/465 [==============================] - 4s 4ms/step - loss: 0.2286 - val_loss: 0.1623\n",
            "Epoch 2/50\n",
            "465/465 [==============================] - 2s 4ms/step - loss: 0.1429 - val_loss: 0.1298\n",
            "Epoch 3/50\n",
            "465/465 [==============================] - 2s 4ms/step - loss: 0.1207 - val_loss: 0.1137\n",
            "Epoch 4/50\n",
            "465/465 [==============================] - 2s 4ms/step - loss: 0.1091 - val_loss: 0.1051\n",
            "Epoch 5/50\n",
            "465/465 [==============================] - 2s 4ms/step - loss: 0.1026 - val_loss: 0.0998\n",
            "Epoch 6/50\n",
            "465/465 [==============================] - 2s 4ms/step - loss: 0.0985 - val_loss: 0.0963\n",
            "Epoch 7/50\n",
            "465/465 [==============================] - 2s 4ms/step - loss: 0.0963 - val_loss: 0.0948\n",
            "Epoch 8/50\n",
            "465/465 [==============================] - 2s 4ms/step - loss: 0.0952 - val_loss: 0.0939\n",
            "Epoch 9/50\n",
            "465/465 [==============================] - 2s 4ms/step - loss: 0.0946 - val_loss: 0.0935\n",
            "Epoch 10/50\n",
            "465/465 [==============================] - 2s 4ms/step - loss: 0.0943 - val_loss: 0.0932\n",
            "Epoch 11/50\n",
            "465/465 [==============================] - 2s 4ms/step - loss: 0.0940 - val_loss: 0.0930\n",
            "Epoch 12/50\n",
            "465/465 [==============================] - 2s 4ms/step - loss: 0.0938 - val_loss: 0.0929\n",
            "Epoch 13/50\n",
            "465/465 [==============================] - 2s 4ms/step - loss: 0.0937 - val_loss: 0.0927\n",
            "Epoch 14/50\n",
            "465/465 [==============================] - 2s 4ms/step - loss: 0.0936 - val_loss: 0.0926\n",
            "Epoch 15/50\n",
            "465/465 [==============================] - 2s 4ms/step - loss: 0.0934 - val_loss: 0.0927\n",
            "Epoch 16/50\n",
            "465/465 [==============================] - 2s 4ms/step - loss: 0.0933 - val_loss: 0.0925\n",
            "Epoch 17/50\n",
            "465/465 [==============================] - 2s 4ms/step - loss: 0.0933 - val_loss: 0.0925\n",
            "Epoch 18/50\n",
            "465/465 [==============================] - 2s 4ms/step - loss: 0.0932 - val_loss: 0.0926\n",
            "Epoch 19/50\n",
            "465/465 [==============================] - 2s 4ms/step - loss: 0.0931 - val_loss: 0.0925\n",
            "Epoch 20/50\n",
            "465/465 [==============================] - 2s 4ms/step - loss: 0.0931 - val_loss: 0.0925\n",
            "Epoch 21/50\n",
            "465/465 [==============================] - 2s 4ms/step - loss: 0.0931 - val_loss: 0.0925\n",
            "Epoch 22/50\n",
            "465/465 [==============================] - 2s 4ms/step - loss: 0.0930 - val_loss: 0.0925\n",
            "Epoch 23/50\n",
            "465/465 [==============================] - 2s 4ms/step - loss: 0.0930 - val_loss: 0.0924\n",
            "Epoch 24/50\n",
            "465/465 [==============================] - 2s 4ms/step - loss: 0.0930 - val_loss: 0.0924\n",
            "Epoch 25/50\n",
            "465/465 [==============================] - 2s 4ms/step - loss: 0.0929 - val_loss: 0.0923\n",
            "Epoch 26/50\n",
            "465/465 [==============================] - 2s 4ms/step - loss: 0.0929 - val_loss: 0.0925\n",
            "Epoch 27/50\n",
            "465/465 [==============================] - 2s 4ms/step - loss: 0.0929 - val_loss: 0.0924\n",
            "Epoch 28/50\n",
            "465/465 [==============================] - 2s 4ms/step - loss: 0.0929 - val_loss: 0.0923\n",
            "Epoch 29/50\n",
            "465/465 [==============================] - 2s 4ms/step - loss: 0.0928 - val_loss: 0.0923\n",
            "Epoch 30/50\n",
            "465/465 [==============================] - 2s 4ms/step - loss: 0.0928 - val_loss: 0.0924\n",
            "Epoch 31/50\n",
            "465/465 [==============================] - 2s 4ms/step - loss: 0.0928 - val_loss: 0.0923\n",
            "Epoch 32/50\n",
            "465/465 [==============================] - 2s 4ms/step - loss: 0.0928 - val_loss: 0.0923\n",
            "Epoch 33/50\n",
            "465/465 [==============================] - 2s 4ms/step - loss: 0.0928 - val_loss: 0.0924\n",
            "Epoch 34/50\n",
            "465/465 [==============================] - 2s 4ms/step - loss: 0.0928 - val_loss: 0.0924\n",
            "Epoch 35/50\n",
            "465/465 [==============================] - 2s 4ms/step - loss: 0.0927 - val_loss: 0.0922\n",
            "Epoch 36/50\n",
            "465/465 [==============================] - 2s 4ms/step - loss: 0.0927 - val_loss: 0.0924\n",
            "Epoch 37/50\n",
            "465/465 [==============================] - 2s 4ms/step - loss: 0.0927 - val_loss: 0.0922\n",
            "Epoch 38/50\n",
            "465/465 [==============================] - 2s 4ms/step - loss: 0.0927 - val_loss: 0.0923\n",
            "Epoch 39/50\n",
            "465/465 [==============================] - 2s 4ms/step - loss: 0.0927 - val_loss: 0.0923\n",
            "Epoch 40/50\n",
            "465/465 [==============================] - 2s 4ms/step - loss: 0.0927 - val_loss: 0.0922\n",
            "Epoch 41/50\n",
            "465/465 [==============================] - 2s 4ms/step - loss: 0.0927 - val_loss: 0.0922\n",
            "Epoch 42/50\n",
            "465/465 [==============================] - 2s 4ms/step - loss: 0.0927 - val_loss: 0.0922\n",
            "Epoch 43/50\n",
            "465/465 [==============================] - 2s 4ms/step - loss: 0.0926 - val_loss: 0.0923\n",
            "Epoch 44/50\n",
            "465/465 [==============================] - 2s 4ms/step - loss: 0.0926 - val_loss: 0.0921\n",
            "Epoch 45/50\n",
            "465/465 [==============================] - 2s 4ms/step - loss: 0.0926 - val_loss: 0.0922\n",
            "Epoch 46/50\n",
            "465/465 [==============================] - 2s 5ms/step - loss: 0.0926 - val_loss: 0.0922\n",
            "Epoch 47/50\n",
            "465/465 [==============================] - 2s 4ms/step - loss: 0.0926 - val_loss: 0.0922\n",
            "Epoch 48/50\n",
            "465/465 [==============================] - 2s 5ms/step - loss: 0.0926 - val_loss: 0.0922\n",
            "Epoch 49/50\n",
            "465/465 [==============================] - 2s 5ms/step - loss: 0.0926 - val_loss: 0.0922\n",
            "Epoch 50/50\n",
            "465/465 [==============================] - 2s 4ms/step - loss: 0.0926 - val_loss: 0.0922\n"
          ]
        },
        {
          "output_type": "execute_result",
          "data": {
            "text/plain": [
              "<keras.callbacks.History at 0x7f1b9768da90>"
            ]
          },
          "metadata": {},
          "execution_count": 11
        }
      ]
    },
    {
      "cell_type": "markdown",
      "source": [
        "By training an autoencoder, we are really training both the encoder and the decoder at the same time.\n",
        "\n",
        "We can build an encoder and use it to compress MNIST digit images."
      ],
      "metadata": {
        "id": "h_XC_Hd-AvfI"
      }
    },
    {
      "cell_type": "code",
      "source": [
        "encoder = Model(inputs, encoded)\n",
        "X_test_encoded = encoder.predict(X_test)"
      ],
      "metadata": {
        "id": "QdQxABokAyMn"
      },
      "execution_count": 12,
      "outputs": []
    },
    {
      "cell_type": "markdown",
      "source": [
        "We can confirm the 784 pixel data points are now compressed into 32 data points."
      ],
      "metadata": {
        "id": "VpBovvatAlHt"
      }
    },
    {
      "cell_type": "code",
      "source": [
        "X_test_encoded[0].shape\n",
        "# You can see that the data is compressed by using an encoder."
      ],
      "metadata": {
        "colab": {
          "base_uri": "https://localhost:8080/"
        },
        "id": "TqfIIQtpAZI8",
        "outputId": "016c014e-27b2-4e4d-ec8f-446fff2ea659"
      },
      "execution_count": 13,
      "outputs": [
        {
          "output_type": "execute_result",
          "data": {
            "text/plain": [
              "(32,)"
            ]
          },
          "metadata": {},
          "execution_count": 13
        }
      ]
    },
    {
      "cell_type": "markdown",
      "source": [
        "Let’s also build a decoder so that we can decompress the compressed image to the original image size. The decoder takes 32 data points as its input (the size of encoded data)."
      ],
      "metadata": {
        "id": "aCAAp3NtBKm0"
      }
    },
    {
      "cell_type": "code",
      "source": [
        "decoder_inputs = layers.Input(shape=(32,))\n",
        "decoder = Model(decoder_inputs, dec_fc(decoder_inputs))\n",
        "# decode the encoded test data\n",
        "X_test_decoded = decoder.predict(X_test_encoded)"
      ],
      "metadata": {
        "id": "bjJwqcEsBOuI"
      },
      "execution_count": 14,
      "outputs": []
    },
    {
      "cell_type": "code",
      "source": [
        "X_test_decoded[0].shape\n",
        "# The shape of each image is now 28*28, which is the same as original images from the dataset."
      ],
      "metadata": {
        "colab": {
          "base_uri": "https://localhost:8080/"
        },
        "id": "V9EI--diBxoK",
        "outputId": "09ffd79b-7e03-4272-d3f1-dd6ed4ca79ae"
      },
      "execution_count": 15,
      "outputs": [
        {
          "output_type": "execute_result",
          "data": {
            "text/plain": [
              "(784,)"
            ]
          },
          "metadata": {},
          "execution_count": 15
        }
      ]
    },
    {
      "cell_type": "code",
      "source": [
        "plt.imshow(np.array(X_test_decoded[0], dtype='float').reshape((28, 28)), cmap='gray')\n",
        "plt.show()"
      ],
      "metadata": {
        "colab": {
          "base_uri": "https://localhost:8080/",
          "height": 265
        },
        "id": "mS7hdLEGLKPk",
        "outputId": "339fa5ab-eefe-4c91-8021-8a17f38cb9bc"
      },
      "execution_count": 16,
      "outputs": [
        {
          "output_type": "display_data",
          "data": {
            "image/png": "[encoded data removed]",
            "text/plain": [
              "<Figure size 432x288 with 1 Axes>"
            ]
          },
          "metadata": {
            "needs_background": "light"
          }
        }
      ]
    },
    {
      "cell_type": "markdown",
      "source": [
        "You can see that the image is well reconstructed by the decoder."
      ],
      "metadata": {
        "id": "ky3-ahPgPwh5"
      }
    },
    {
      "cell_type": "markdown",
      "source": [
        "##Convolutional Autoencoder\n",
        "We could add more layers to make the network deeper to improve the performance. But since we are working on images, we could make use of convolutional neural network to improve the quality of compression and decompression."
      ],
      "metadata": {
        "id": "14QhJ0JIP28_"
      }
    },
    {
      "cell_type": "code",
      "source": [
        "def make_convolutional_autoencoder():\n",
        "    # encoding\n",
        "    inputs = layers.Input(shape=(28, 28, 1))\n",
        "    x = layers.Conv2D(16, 3, activation='relu', padding='same')(inputs)\n",
        "    x = layers.MaxPooling2D(padding='same')(x)\n",
        "    x = layers.Conv2D( 8, 3, activation='relu', padding='same')(x)\n",
        "    x = layers.MaxPooling2D(padding='same')(x)\n",
        "    x = layers.Conv2D( 8, 3, activation='relu', padding='same')(x)\n",
        "    encoded = layers.MaxPooling2D(padding='same')(x)    \n",
        "    \n",
        "    # decoding\n",
        "    x = layers.Conv2D( 8, 3, activation='relu', padding='same')(encoded)\n",
        "    x = layers.UpSampling2D()(x)\n",
        "    x = layers.Conv2D( 8, 3, activation='relu', padding='same')(x)\n",
        "    x = layers.UpSampling2D()(x)\n",
        "    x = layers.Conv2D(16, 3, activation='relu')(x) # <= padding='valid'!\n",
        "    x = layers.UpSampling2D()(x)\n",
        "    decoded = layers.Conv2D(1, 3, activation='sigmoid', padding='same')(x)\n",
        "    \n",
        "    # autoencoder\n",
        "    autoencoder = Model(inputs, decoded)\n",
        "    autoencoder.compile(optimizer='adam', \n",
        "                        loss='binary_crossentropy')\n",
        "    return autoencoder\n",
        "# create a convolutional autoencoder\n",
        "autoencoder = make_convolutional_autoencoder()"
      ],
      "metadata": {
        "id": "VeUwVwBSPvyK"
      },
      "execution_count": 17,
      "outputs": []
    },
    {
      "cell_type": "markdown",
      "source": [
        "Now, we reshape the image data to the format the convolutional autoencoder expects for training."
      ],
      "metadata": {
        "id": "sy4Z7zHkS5-j"
      }
    },
    {
      "cell_type": "code",
      "source": [
        "# reshape the flattened images to 28x28 with 1 channel\n",
        "X_train = X_train.reshape(-1, 28, 28, 1)\n",
        "X_valid = X_valid.reshape(-1, 28, 28, 1)\n",
        "X_test  = X_test.reshape(-1, 28, 28, 1)\n",
        "autoencoder.fit(X_train, X_train, \n",
        "                epochs=50, \n",
        "                batch_size=128, \n",
        "                validation_data=(X_valid, X_valid))"
      ],
      "metadata": {
        "colab": {
          "base_uri": "https://localhost:8080/"
        },
        "id": "YvOgR5D7KL8t",
        "outputId": "7a6c9697-dfb1-4b20-a08a-3de2488b07e7"
      },
      "execution_count": 18,
      "outputs": [
        {
          "output_type": "stream",
          "name": "stdout",
          "text": [
            "Epoch 1/50\n",
            "465/465 [==============================] - 15s 14ms/step - loss: 0.2205 - val_loss: 0.1562\n",
            "Epoch 2/50\n",
            "465/465 [==============================] - 5s 12ms/step - loss: 0.1425 - val_loss: 0.1327\n",
            "Epoch 3/50\n",
            "465/465 [==============================] - 5s 12ms/step - loss: 0.1272 - val_loss: 0.1229\n",
            "Epoch 4/50\n",
            "465/465 [==============================] - 5s 11ms/step - loss: 0.1200 - val_loss: 0.1180\n",
            "Epoch 5/50\n",
            "465/465 [==============================] - 5s 11ms/step - loss: 0.1157 - val_loss: 0.1139\n",
            "Epoch 6/50\n",
            "465/465 [==============================] - 6s 13ms/step - loss: 0.1126 - val_loss: 0.1115\n",
            "Epoch 7/50\n",
            "465/465 [==============================] - 5s 11ms/step - loss: 0.1103 - val_loss: 0.1096\n",
            "Epoch 8/50\n",
            "465/465 [==============================] - 5s 11ms/step - loss: 0.1085 - val_loss: 0.1081\n",
            "Epoch 9/50\n",
            "465/465 [==============================] - 5s 11ms/step - loss: 0.1071 - val_loss: 0.1066\n",
            "Epoch 10/50\n",
            "465/465 [==============================] - 5s 12ms/step - loss: 0.1059 - val_loss: 0.1057\n",
            "Epoch 11/50\n",
            "465/465 [==============================] - 6s 12ms/step - loss: 0.1049 - val_loss: 0.1045\n",
            "Epoch 12/50\n",
            "465/465 [==============================] - 5s 12ms/step - loss: 0.1040 - val_loss: 0.1037\n",
            "Epoch 13/50\n",
            "465/465 [==============================] - 5s 12ms/step - loss: 0.1033 - val_loss: 0.1028\n",
            "Epoch 14/50\n",
            "465/465 [==============================] - 6s 12ms/step - loss: 0.1025 - val_loss: 0.1023\n",
            "Epoch 15/50\n",
            "465/465 [==============================] - 5s 12ms/step - loss: 0.1018 - val_loss: 0.1013\n",
            "Epoch 16/50\n",
            "465/465 [==============================] - 5s 12ms/step - loss: 0.1010 - val_loss: 0.1005\n",
            "Epoch 17/50\n",
            "465/465 [==============================] - 5s 11ms/step - loss: 0.1005 - val_loss: 0.0998\n",
            "Epoch 18/50\n",
            "465/465 [==============================] - 5s 12ms/step - loss: 0.1001 - val_loss: 0.0997\n",
            "Epoch 19/50\n",
            "465/465 [==============================] - 5s 12ms/step - loss: 0.0995 - val_loss: 0.0993\n",
            "Epoch 20/50\n",
            "465/465 [==============================] - 5s 12ms/step - loss: 0.0992 - val_loss: 0.0985\n",
            "Epoch 21/50\n",
            "465/465 [==============================] - 5s 12ms/step - loss: 0.0988 - val_loss: 0.0988\n",
            "Epoch 22/50\n",
            "465/465 [==============================] - 5s 12ms/step - loss: 0.0984 - val_loss: 0.0977\n",
            "Epoch 23/50\n",
            "465/465 [==============================] - 5s 12ms/step - loss: 0.0981 - val_loss: 0.0978\n",
            "Epoch 24/50\n",
            "465/465 [==============================] - 5s 12ms/step - loss: 0.0978 - val_loss: 0.0971\n",
            "Epoch 25/50\n",
            "465/465 [==============================] - 5s 12ms/step - loss: 0.0975 - val_loss: 0.0970\n",
            "Epoch 26/50\n",
            "465/465 [==============================] - 6s 12ms/step - loss: 0.0972 - val_loss: 0.0971\n",
            "Epoch 27/50\n",
            "465/465 [==============================] - 6s 12ms/step - loss: 0.0969 - val_loss: 0.0963\n",
            "Epoch 28/50\n",
            "465/465 [==============================] - 6s 12ms/step - loss: 0.0967 - val_loss: 0.0962\n",
            "Epoch 29/50\n",
            "465/465 [==============================] - 5s 12ms/step - loss: 0.0964 - val_loss: 0.0963\n",
            "Epoch 30/50\n",
            "465/465 [==============================] - 6s 12ms/step - loss: 0.0962 - val_loss: 0.0955\n",
            "Epoch 31/50\n",
            "465/465 [==============================] - 5s 12ms/step - loss: 0.0959 - val_loss: 0.0956\n",
            "Epoch 32/50\n",
            "465/465 [==============================] - 5s 12ms/step - loss: 0.0956 - val_loss: 0.0956\n",
            "Epoch 33/50\n",
            "465/465 [==============================] - 5s 12ms/step - loss: 0.0955 - val_loss: 0.0949\n",
            "Epoch 34/50\n",
            "465/465 [==============================] - 5s 12ms/step - loss: 0.0953 - val_loss: 0.0950\n",
            "Epoch 35/50\n",
            "465/465 [==============================] - 6s 12ms/step - loss: 0.0950 - val_loss: 0.0947\n",
            "Epoch 36/50\n",
            "465/465 [==============================] - 6s 12ms/step - loss: 0.0948 - val_loss: 0.0943\n",
            "Epoch 37/50\n",
            "465/465 [==============================] - 6s 12ms/step - loss: 0.0947 - val_loss: 0.0942\n",
            "Epoch 38/50\n",
            "465/465 [==============================] - 5s 12ms/step - loss: 0.0944 - val_loss: 0.0939\n",
            "Epoch 39/50\n",
            "465/465 [==============================] - 5s 12ms/step - loss: 0.0943 - val_loss: 0.0941\n",
            "Epoch 40/50\n",
            "465/465 [==============================] - 5s 12ms/step - loss: 0.0941 - val_loss: 0.0935\n",
            "Epoch 41/50\n",
            "465/465 [==============================] - 6s 12ms/step - loss: 0.0940 - val_loss: 0.0934\n",
            "Epoch 42/50\n",
            "465/465 [==============================] - 5s 12ms/step - loss: 0.0938 - val_loss: 0.0933\n",
            "Epoch 43/50\n",
            "465/465 [==============================] - 5s 12ms/step - loss: 0.0936 - val_loss: 0.0933\n",
            "Epoch 44/50\n",
            "465/465 [==============================] - 5s 12ms/step - loss: 0.0934 - val_loss: 0.0930\n",
            "Epoch 45/50\n",
            "465/465 [==============================] - 6s 12ms/step - loss: 0.0933 - val_loss: 0.0929\n",
            "Epoch 46/50\n",
            "465/465 [==============================] - 5s 12ms/step - loss: 0.0931 - val_loss: 0.0929\n",
            "Epoch 47/50\n",
            "465/465 [==============================] - 5s 12ms/step - loss: 0.0929 - val_loss: 0.0930\n",
            "Epoch 48/50\n",
            "465/465 [==============================] - 5s 12ms/step - loss: 0.0928 - val_loss: 0.0923\n",
            "Epoch 49/50\n",
            "465/465 [==============================] - 5s 12ms/step - loss: 0.0926 - val_loss: 0.0924\n",
            "Epoch 50/50\n",
            "465/465 [==============================] - 5s 12ms/step - loss: 0.0925 - val_loss: 0.0920\n"
          ]
        },
        {
          "output_type": "execute_result",
          "data": {
            "text/plain": [
              "<keras.callbacks.History at 0x7f1b975b9390>"
            ]
          },
          "metadata": {},
          "execution_count": 18
        }
      ]
    },
    {
      "cell_type": "markdown",
      "source": [
        "We just want to see the quality of compression/decompression, for which we do not need to build separate encoder and decoder models. So, we simply feed forward test images to see how the restored digits look like."
      ],
      "metadata": {
        "id": "7z_-9nRcTXD4"
      }
    },
    {
      "cell_type": "code",
      "source": [
        "X_test_decoded = autoencoder.predict(X_test)"
      ],
      "metadata": {
        "id": "uCSv-i_GTWO3"
      },
      "execution_count": 19,
      "outputs": []
    },
    {
      "cell_type": "code",
      "source": [
        "plt.imshow(np.array(X_test_decoded[0], dtype='float').reshape((28, 28)), cmap='gray')\n",
        "plt.show()"
      ],
      "metadata": {
        "colab": {
          "base_uri": "https://localhost:8080/",
          "height": 265
        },
        "id": "uKifMldKTlS7",
        "outputId": "dd7232dd-a47e-4eb2-90bd-a10f91ef4695"
      },
      "execution_count": 20,
      "outputs": [
        {
          "output_type": "display_data",
          "data": {
            "image/png": "[encoded data removed]",
            "text/plain": [
              "<Figure size 432x288 with 1 Axes>"
            ]
          },
          "metadata": {
            "needs_background": "light"
          }
        }
      ]
    },
    {
      "cell_type": "markdown",
      "source": [
        "Although not perfect, the restored digit look better than the ones restored by the simple autoencoder."
      ],
      "metadata": {
        "id": "vUejs94TTuTz"
      }
    },
    {
      "cell_type": "markdown",
      "source": [
        "##What about the Noise Reduction?\n",
        "Let’s try noise reduction effect using the convolutional autoencoder. We add random noises to the MINST image data and use them as input for training."
      ],
      "metadata": {
        "id": "fM_rtAGmUFFg"
      }
    },
    {
      "cell_type": "code",
      "source": [
        "def add_noise(x, noise_factor=0.2):\n",
        "    x = x + np.random.randn(*x.shape) * noise_factor\n",
        "    x = x.clip(0., 1.)\n",
        "    return x\n",
        "    \n",
        "X_train_noisy = add_noise(X_train)\n",
        "X_valid_noisy = add_noise(X_valid)\n",
        "X_test_noisy  = add_noise(X_test)"
      ],
      "metadata": {
        "id": "BdJvEnHSTu1N"
      },
      "execution_count": 21,
      "outputs": []
    },
    {
      "cell_type": "markdown",
      "source": [
        "We train a new autoencoder with the noisy data as input and the original data as expected output."
      ],
      "metadata": {
        "id": "63_wa5JxUKVw"
      }
    },
    {
      "cell_type": "code",
      "source": [
        "autoencoder = make_convolutional_autoencoder()\n",
        "autoencoder.fit(X_train_noisy, X_train, \n",
        "                epochs=50, \n",
        "                batch_size=128, \n",
        "                validation_data=(X_valid_noisy, X_valid))"
      ],
      "metadata": {
        "colab": {
          "base_uri": "https://localhost:8080/"
        },
        "id": "5zetTNBvUH9q",
        "outputId": "f6a07c2c-1e4f-43a6-c905-645abb7bafec"
      },
      "execution_count": 22,
      "outputs": [
        {
          "output_type": "stream",
          "name": "stdout",
          "text": [
            "Epoch 1/50\n",
            "465/465 [==============================] - 7s 14ms/step - loss: 0.2211 - val_loss: 0.1543\n",
            "Epoch 2/50\n",
            "465/465 [==============================] - 6s 14ms/step - loss: 0.1411 - val_loss: 0.1322\n",
            "Epoch 3/50\n",
            "465/465 [==============================] - 6s 12ms/step - loss: 0.1281 - val_loss: 0.1241\n",
            "Epoch 4/50\n",
            "465/465 [==============================] - 5s 12ms/step - loss: 0.1215 - val_loss: 0.1189\n",
            "Epoch 5/50\n",
            "465/465 [==============================] - 5s 12ms/step - loss: 0.1176 - val_loss: 0.1158\n",
            "Epoch 6/50\n",
            "465/465 [==============================] - 5s 12ms/step - loss: 0.1146 - val_loss: 0.1135\n",
            "Epoch 7/50\n",
            "465/465 [==============================] - 5s 12ms/step - loss: 0.1126 - val_loss: 0.1112\n",
            "Epoch 8/50\n",
            "465/465 [==============================] - 5s 12ms/step - loss: 0.1109 - val_loss: 0.1107\n",
            "Epoch 9/50\n",
            "465/465 [==============================] - 5s 12ms/step - loss: 0.1096 - val_loss: 0.1085\n",
            "Epoch 10/50\n",
            "465/465 [==============================] - 5s 11ms/step - loss: 0.1084 - val_loss: 0.1078\n",
            "Epoch 11/50\n",
            "465/465 [==============================] - 5s 11ms/step - loss: 0.1074 - val_loss: 0.1065\n",
            "Epoch 12/50\n",
            "465/465 [==============================] - 5s 12ms/step - loss: 0.1066 - val_loss: 0.1057\n",
            "Epoch 13/50\n",
            "465/465 [==============================] - 5s 11ms/step - loss: 0.1058 - val_loss: 0.1051\n",
            "Epoch 14/50\n",
            "465/465 [==============================] - 5s 11ms/step - loss: 0.1051 - val_loss: 0.1043\n",
            "Epoch 15/50\n",
            "465/465 [==============================] - 5s 11ms/step - loss: 0.1045 - val_loss: 0.1040\n",
            "Epoch 16/50\n",
            "465/465 [==============================] - 5s 11ms/step - loss: 0.1039 - val_loss: 0.1030\n",
            "Epoch 17/50\n",
            "465/465 [==============================] - 7s 14ms/step - loss: 0.1035 - val_loss: 0.1026\n",
            "Epoch 18/50\n",
            "465/465 [==============================] - 5s 11ms/step - loss: 0.1029 - val_loss: 0.1026\n",
            "Epoch 19/50\n",
            "465/465 [==============================] - 5s 12ms/step - loss: 0.1026 - val_loss: 0.1020\n",
            "Epoch 20/50\n",
            "465/465 [==============================] - 5s 11ms/step - loss: 0.1022 - val_loss: 0.1016\n",
            "Epoch 21/50\n",
            "465/465 [==============================] - 5s 12ms/step - loss: 0.1019 - val_loss: 0.1014\n",
            "Epoch 22/50\n",
            "465/465 [==============================] - 5s 11ms/step - loss: 0.1015 - val_loss: 0.1008\n",
            "Epoch 23/50\n",
            "465/465 [==============================] - 5s 11ms/step - loss: 0.1012 - val_loss: 0.1012\n",
            "Epoch 24/50\n",
            "465/465 [==============================] - 5s 11ms/step - loss: 0.1008 - val_loss: 0.1004\n",
            "Epoch 25/50\n",
            "465/465 [==============================] - 5s 11ms/step - loss: 0.1006 - val_loss: 0.0997\n",
            "Epoch 26/50\n",
            "465/465 [==============================] - 5s 11ms/step - loss: 0.1002 - val_loss: 0.0995\n",
            "Epoch 27/50\n",
            "465/465 [==============================] - 5s 11ms/step - loss: 0.1000 - val_loss: 0.0993\n",
            "Epoch 28/50\n",
            "465/465 [==============================] - 5s 11ms/step - loss: 0.0997 - val_loss: 0.0989\n",
            "Epoch 29/50\n",
            "465/465 [==============================] - 5s 11ms/step - loss: 0.0995 - val_loss: 0.0988\n",
            "Epoch 30/50\n",
            "465/465 [==============================] - 5s 12ms/step - loss: 0.0993 - val_loss: 0.0985\n",
            "Epoch 31/50\n",
            "465/465 [==============================] - 5s 11ms/step - loss: 0.0991 - val_loss: 0.0980\n",
            "Epoch 32/50\n",
            "465/465 [==============================] - 5s 11ms/step - loss: 0.0989 - val_loss: 0.0986\n",
            "Epoch 33/50\n",
            "465/465 [==============================] - 5s 11ms/step - loss: 0.0986 - val_loss: 0.0980\n",
            "Epoch 34/50\n",
            "465/465 [==============================] - 5s 11ms/step - loss: 0.0985 - val_loss: 0.0977\n",
            "Epoch 35/50\n",
            "465/465 [==============================] - 5s 11ms/step - loss: 0.0984 - val_loss: 0.0982\n",
            "Epoch 36/50\n",
            "465/465 [==============================] - 5s 11ms/step - loss: 0.0981 - val_loss: 0.0981\n",
            "Epoch 37/50\n",
            "465/465 [==============================] - 5s 11ms/step - loss: 0.0980 - val_loss: 0.0978\n",
            "Epoch 38/50\n",
            "465/465 [==============================] - 5s 11ms/step - loss: 0.0979 - val_loss: 0.0972\n",
            "Epoch 39/50\n",
            "465/465 [==============================] - 5s 11ms/step - loss: 0.0978 - val_loss: 0.0972\n",
            "Epoch 40/50\n",
            "465/465 [==============================] - 5s 11ms/step - loss: 0.0976 - val_loss: 0.0969\n",
            "Epoch 41/50\n",
            "465/465 [==============================] - 5s 11ms/step - loss: 0.0976 - val_loss: 0.0969\n",
            "Epoch 42/50\n",
            "465/465 [==============================] - 5s 11ms/step - loss: 0.0973 - val_loss: 0.0968\n",
            "Epoch 43/50\n",
            "465/465 [==============================] - 5s 11ms/step - loss: 0.0972 - val_loss: 0.0970\n",
            "Epoch 44/50\n",
            "465/465 [==============================] - 5s 11ms/step - loss: 0.0972 - val_loss: 0.0965\n",
            "Epoch 45/50\n",
            "465/465 [==============================] - 5s 11ms/step - loss: 0.0971 - val_loss: 0.0970\n",
            "Epoch 46/50\n",
            "465/465 [==============================] - 5s 11ms/step - loss: 0.0970 - val_loss: 0.0964\n",
            "Epoch 47/50\n",
            "465/465 [==============================] - 5s 11ms/step - loss: 0.0968 - val_loss: 0.0962\n",
            "Epoch 48/50\n",
            "465/465 [==============================] - 5s 11ms/step - loss: 0.0968 - val_loss: 0.0961\n",
            "Epoch 49/50\n",
            "465/465 [==============================] - 5s 11ms/step - loss: 0.0967 - val_loss: 0.0960\n",
            "Epoch 50/50\n",
            "465/465 [==============================] - 5s 11ms/step - loss: 0.0966 - val_loss: 0.0962\n"
          ]
        },
        {
          "output_type": "execute_result",
          "data": {
            "text/plain": [
              "<keras.callbacks.History at 0x7f1b972add90>"
            ]
          },
          "metadata": {},
          "execution_count": 22
        }
      ]
    },
    {
      "cell_type": "markdown",
      "source": [
        "During the training, the autoencoder learns to extract important features from input images and ignores the image noises because the labels have no noises.\n",
        "\n",
        "Let’s pass the noisy test images to the autoencoder to see the restored images."
      ],
      "metadata": {
        "id": "eglb_h67UPy7"
      }
    },
    {
      "cell_type": "code",
      "source": [
        "X_test_decoded = autoencoder.predict(X_test_noisy)"
      ],
      "metadata": {
        "id": "lqmaHtpgUPas"
      },
      "execution_count": 23,
      "outputs": []
    },
    {
      "cell_type": "code",
      "source": [
        "plt.imshow(np.array(X_test_noisy[0], dtype='float').reshape((28, 28)), cmap='gray')\n",
        "plt.show()"
      ],
      "metadata": {
        "colab": {
          "base_uri": "https://localhost:8080/",
          "height": 265
        },
        "id": "EN6DD1qWUWpA",
        "outputId": "2e540d40-48d2-4bff-9a7c-10ba9c73e4e3"
      },
      "execution_count": 24,
      "outputs": [
        {
          "output_type": "display_data",
          "data": {
            "image/png": "[encoded data removed]",
            "text/plain": [
              "<Figure size 432x288 with 1 Axes>"
            ]
          },
          "metadata": {
            "needs_background": "light"
          }
        }
      ]
    },
    {
      "cell_type": "code",
      "source": [
        "plt.imshow(np.array(X_test_decoded[0], dtype='float').reshape((28, 28)), cmap='gray')\n",
        "plt.show()"
      ],
      "metadata": {
        "colab": {
          "base_uri": "https://localhost:8080/",
          "height": 265
        },
        "id": "F-jgkfyLUZj9",
        "outputId": "71a5a576-6d2b-4382-8cde-bb3d93e16531"
      },
      "execution_count": 25,
      "outputs": [
        {
          "output_type": "display_data",
          "data": {
            "image/png": "[encoded data removed]",
            "text/plain": [
              "<Figure size 432x288 with 1 Axes>"
            ]
          },
          "metadata": {
            "needs_background": "light"
          }
        }
      ]
    },
    {
      "cell_type": "markdown",
      "source": [
        "You can see that the noisy image is well recostructed."
      ],
      "metadata": {
        "id": "9Nin0EBuYwua"
      }
    }
  ]
}